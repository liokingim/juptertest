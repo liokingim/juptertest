{
 "cells": [
  {
   "cell_type": "code",
   "execution_count": null,
   "metadata": {},
   "outputs": [],
   "source": [
    "!pip install -q diffusers transformers accelerate openai"
   ]
  },
  {
   "cell_type": "markdown",
   "metadata": {},
   "source": [
    "### Load the model"
   ]
  },
  {
   "cell_type": "code",
   "execution_count": null,
   "metadata": {},
   "outputs": [],
   "source": [
    "import torch\n",
    "from diffusers import DiffusionPipeline\n",
    "import openai\n",
    "import json\n",
    "\n",
    "device = \"cuda\" if torch.cuda.is_available() else \"cpu\"\n",
    "\n",
    "model_id = \"youngmki/musinsaigo-2.0\"\n",
    "pipe = DiffusionPipeline.from_pretrained(\n",
    "    \"stabilityai/stable-diffusion-xl-base-1.0\", torch_dtype=torch.float16\n",
    ")\n",
    "pipe = pipe.to(device)\n",
    "pipe.load_lora_weights(model_id)"
   ]
  },
  {
   "cell_type": "markdown",
   "metadata": {},
   "source": [
    "Prompt helper functions"
   ]
  },
  {
   "cell_type": "code",
   "execution_count": null,
   "metadata": {},
   "outputs": [],
   "source": [
    "def make_prompt(prompt: str) -> str:\n",
    "    prompt_prefix = \"RAW photo\"\n",
    "    prompt_suffix = \"(high detailed skin:1.2), 8k uhd, dslr, soft lighting, high quality, film grain, Fujifilm XT3\"\n",
    "    return \", \".join([prompt_prefix, prompt, prompt_suffix]).strip()\n",
    "\n",
    "\n",
    "def make_negative_prompt(negative_prompt: str) -> str:\n",
    "    negative_prefix = \"(deformed iris, deformed pupils, semi-realistic, cgi, 3d, render, sketch, cartoon, drawing, anime:1.4), \\\n",
    "    text, close up, cropped, out of frame, worst quality, low quality, jpeg artifacts, ugly, duplicate, morbid, mutilated, \\\n",
    "    extra fingers, mutated hands, poorly drawn hands, poorly drawn face, mutation, deformed, blurry, dehydrated, bad anatomy, \\\n",
    "    bad proportions, extra limbs, cloned face, disfigured, gross proportions, malformed limbs, missing arms, missing legs, \\\n",
    "    extra arms, extra legs, fused fingers, too many fingers, long neck\"\n",
    "\n",
    "    return (\n",
    "        \", \".join([negative_prefix, negative_prompt]).strip()\n",
    "        if len(negative_prompt) > 0\n",
    "        else negative_prefix\n",
    "    )"
   ]
  },
  {
   "cell_type": "markdown",
   "metadata": {},
   "source": [
    "Inference"
   ]
  },
  {
   "cell_type": "code",
   "execution_count": null,
   "metadata": {},
   "outputs": [],
   "source": [
    "PROMPT = \"A Korean woman in her 20s wearing a white large hoodie in street fashion\"\n",
    "NEGATIVE_PROMPT = \"\"\n",
    "\n",
    "def generate_image(prompt):\n",
    "    image = pipe(\n",
    "        prompt=make_prompt(prompt),\n",
    "        height=1024,\n",
    "        width=768,\n",
    "        num_inference_steps=50,\n",
    "        guidance_scale=7.5,\n",
    "        negative_prompt=make_negative_prompt(NEGATIVE_PROMPT),\n",
    "        cross_attention_kwargs={\"scale\": 0.75},\n",
    "    ).images[0]\n",
    "\n",
    "    return image\n",
    "\n",
    "generate_image(PROMPT)"
   ]
  },
  {
   "cell_type": "markdown",
   "metadata": {},
   "source": [
    "ChatGPT API"
   ]
  },
  {
   "cell_type": "code",
   "execution_count": null,
   "metadata": {},
   "outputs": [],
   "source": [
    "import openai\n",
    "import json\n",
    "\n",
    "openai.api_key = \"aaaaa\""
   ]
  },
  {
   "cell_type": "markdown",
   "metadata": {},
   "source": [
    "1. 조건이 부족할 때"
   ]
  },
  {
   "cell_type": "code",
   "execution_count": null,
   "metadata": {},
   "outputs": [],
   "source": [
    "gpt_system_prompt = \"\"\"You're a chatbot that helps people choose what to wear today. Based on the user's mood and preferences, you need to help them choose the right outfit and print it out as an image. To make outfit recommendations, you need the following information.\n",
    "- The user's gender\n",
    "- Nationality\n",
    "- Age\n",
    "- Mood\n",
    "- Clothing preferences\n",
    "\n",
    "To create a prompt to generate an image, the process is as follows:\n",
    "1. Collect information from the user by asking them a number of questions.\n",
    "2. Once you have enough information, complete the prompt as shown below:\n",
    "Example input:\n",
    "- Gender: Female\n",
    "- Nationality: Korea\n",
    "- Age: 25\n",
    "- Mood: Fresh\n",
    "- Preference: Street fashion\n",
    "Example prompt: A Korean woman in her 20s wearing a white large hoodie in street fashion.\n",
    "3. pass the completed prompt as an argument to call the `generate_image` function.\n",
    "4. You must answer in Korean and prompt must be in English.\n",
    "\"\"\"\n",
    "\n",
    "gpt_user_prompt = \"오늘 어떤 옷을 입어야할까?\"\n",
    "\n",
    "completion = openai.ChatCompletion.create(\n",
    "    model=\"gpt-4-0613\",\n",
    "    messages=[\n",
    "        {\"role\": \"system\", \"content\": gpt_system_prompt},\n",
    "        {\"role\": \"user\", \"content\": gpt_user_prompt}],\n",
    "    functions=[{\n",
    "        \"name\": \"generate_image\",\n",
    "        \"description\": \"Generate an outfit image from prompt.\",\n",
    "        \"parameters\": {\n",
    "            \"type\": \"object\",\n",
    "            \"properties\": {\n",
    "                \"prompt\": {\n",
    "                    \"type\": \"string\",\n",
    "                    \"description\": \"Prompt that generate an outfit image\",\n",
    "                },\n",
    "            },\n",
    "            \"required\": [\"prompt\"],\n",
    "        },\n",
    "    }],\n",
    "    function_call=\"auto\",\n",
    ")\n",
    "\n",
    "print(completion.choices[0])\n",
    "print(completion.choices[0].message.content)"
   ]
  },
  {
   "cell_type": "markdown",
   "metadata": {},
   "source": [
    "2. 조건을 만족했을 때"
   ]
  },
  {
   "cell_type": "code",
   "execution_count": null,
   "metadata": {},
   "outputs": [],
   "source": [
    "gpt_user_prompt = \"오늘 어떤 옷을 입어야할까? 나이: 25세, 국적: 대한민국, 성별: 여성, 기분: 우울함, 취향: 단정함\"\n",
    "\n",
    "completion = openai.ChatCompletion.create(\n",
    "    model=\"gpt-4-0613\",\n",
    "    messages=[\n",
    "        {\"role\": \"system\", \"content\": gpt_system_prompt},\n",
    "        {\"role\": \"user\", \"content\": gpt_user_prompt}],\n",
    "    functions=[{\n",
    "        \"name\": \"generate_image\",\n",
    "        \"description\": \"Generate an outfit image from prompt.\",\n",
    "        \"parameters\": {\n",
    "            \"type\": \"object\",\n",
    "            \"properties\": {\n",
    "                \"prompt\": {\n",
    "                    \"type\": \"string\",\n",
    "                    \"description\": \"Prompt that generate an outfit image\",\n",
    "                },\n",
    "            },\n",
    "            \"required\": [\"prompt\"],\n",
    "        },\n",
    "    }],\n",
    "    function_call=\"auto\",\n",
    ")\n",
    "\n",
    "print(completion.choices[0])\n",
    "print(completion.choices[0].message.content)"
   ]
  },
  {
   "cell_type": "markdown",
   "metadata": {},
   "source": [
    "Result"
   ]
  },
  {
   "cell_type": "code",
   "execution_count": null,
   "metadata": {},
   "outputs": [],
   "source": [
    "if \"function_call\" in completion.choices[0].message:\n",
    "    function_name = completion.choices[0].message.to_dict()['function_call']['name']\n",
    "    arguments = completion.choices[0].message.to_dict()['function_call']['arguments']\n",
    "    arguments = json.loads(arguments)\n",
    "\n",
    "    if function_name == \"generate_image\":\n",
    "        print(function_name)\n",
    "        print(arguments)"
   ]
  },
  {
   "cell_type": "markdown",
   "metadata": {},
   "source": [
    "Gradio Chatbot"
   ]
  },
  {
   "cell_type": "code",
   "execution_count": null,
   "metadata": {},
   "outputs": [],
   "source": [
    "!pip install -q gradio"
   ]
  },
  {
   "cell_type": "code",
   "execution_count": null,
   "metadata": {},
   "outputs": [],
   "source": [
    "import gradio as gr\n",
    "\n",
    "def answer(state, state_chatbot, text):\n",
    "    messages = state + [{\n",
    "        \"role\": \"user\",\n",
    "        \"content\": text\n",
    "    }]\n",
    "\n",
    "    completion = openai.ChatCompletion.create(\n",
    "        model=\"gpt-4-0613\",\n",
    "        messages=messages,\n",
    "        functions=[{\n",
    "            \"name\": \"generate_image\",\n",
    "            \"description\": \"Generate an outfit image from prompt.\",\n",
    "            \"parameters\": {\n",
    "                \"type\": \"object\",\n",
    "                \"properties\": {\n",
    "                    \"prompt\": {\n",
    "                        \"type\": \"string\",\n",
    "                        \"description\": \"Prompt that generate an outfit image\",\n",
    "                    },\n",
    "                },\n",
    "                \"required\": [\"prompt\"],\n",
    "            },\n",
    "        }],\n",
    "        function_call=\"auto\",\n",
    "    )\n",
    "\n",
    "    msg = completion.choices[0].message.content if completion.choices[0].message.content else \"\"\n",
    "\n",
    "    new_state = [{\n",
    "        \"role\": \"user\",\n",
    "        \"content\": text\n",
    "    }, {\n",
    "        \"role\": \"assistant\",\n",
    "        \"content\": msg\n",
    "    }]\n",
    "\n",
    "    state = state + new_state\n",
    "\n",
    "    if \"function_call\" in completion.choices[0].message:\n",
    "        function_name = completion.choices[0].message.to_dict()['function_call']['name']\n",
    "        arguments = completion.choices[0].message.to_dict()['function_call']['arguments']\n",
    "        arguments = json.loads(arguments)\n",
    "\n",
    "        if function_name == \"generate_image\":\n",
    "            print(arguments)\n",
    "\n",
    "            img = generate_image(arguments[\"prompt\"])\n",
    "\n",
    "            img_path = f'image.jpg'\n",
    "            img.save(img_path)\n",
    "\n",
    "            state_chatbot = state_chatbot + [(text, f'{msg}\\n![](/file={img_path})')]\n",
    "    else:\n",
    "        state_chatbot = state_chatbot + [(text, msg)]\n",
    "\n",
    "    return state, state_chatbot, state_chatbot\n",
    "\n",
    "\n",
    "with gr.Blocks(css=\"#chatbot .overflow-y-auto{height:500px}\") as demo:\n",
    "    state = gr.State([{\n",
    "        \"role\": \"system\",\n",
    "        \"content\": gpt_system_prompt\n",
    "    }])\n",
    "    state_chatbot = gr.State([])\n",
    "\n",
    "    with gr.Row():\n",
    "        gr.HTML(\"\"\"<div style=\"text-align: center; max-width: 500px; margin: 0 auto;\">\n",
    "            <div>\n",
    "                <h1>OOTD Recommendation Chatbot</h1>\n",
    "            </div>\n",
    "            <p style=\"margin-bottom: 10px; font-size: 94%\">\n",
    "                YouTube <a href=\"https://www.youtube.com/@bbanghyong\">빵형의 개발도상국</a>\n",
    "            </p>\n",
    "        </div>\"\"\")\n",
    "\n",
    "    with gr.Row():\n",
    "        chatbot = gr.Chatbot(elem_id=\"chatbot\")\n",
    "\n",
    "    with gr.Row():\n",
    "        txt = gr.Textbox(show_label=False, placeholder=\"오늘 무슨 옷을 입으면 좋을까?\", container=False)\n",
    "\n",
    "    txt.submit(answer, [state, state_chatbot, txt], [state, state_chatbot, chatbot])\n",
    "    txt.submit(lambda: \"\" , None, txt)\n",
    "\n",
    "\n",
    "demo.launch(debug=True, share=True)"
   ]
  }
 ],
 "metadata": {
  "kernelspec": {
   "display_name": "venv",
   "language": "python",
   "name": "python3"
  },
  "language_info": {
   "codemirror_mode": {
    "name": "ipython",
    "version": 3
   },
   "file_extension": ".py",
   "mimetype": "text/x-python",
   "name": "python",
   "nbconvert_exporter": "python",
   "pygments_lexer": "ipython3",
   "version": "3.10.11"
  }
 },
 "nbformat": 4,
 "nbformat_minor": 2
}
