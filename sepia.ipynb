{
 "cells": [
  {
   "cell_type": "code",
   "execution_count": 1,
   "metadata": {},
   "outputs": [
    {
     "name": "stdout",
     "output_type": "stream",
     "text": [
      "Running on local URL:  http://127.0.0.1:7860\n",
      "Running on public URL: https://f3193e7fb5837331eb.gradio.live\n",
      "\n",
      "This share link expires in 72 hours. For free permanent hosting and GPU upgrades, run `gradio deploy` from Terminal to deploy to Spaces (https://huggingface.co/spaces)\n"
     ]
    },
    {
     "data": {
      "text/html": [
       "<div><iframe src=\"https://f3193e7fb5837331eb.gradio.live\" width=\"100%\" height=\"500\" allow=\"autoplay; camera; microphone; clipboard-read; clipboard-write;\" frameborder=\"0\" allowfullscreen></iframe></div>"
      ],
      "text/plain": [
       "<IPython.core.display.HTML object>"
      ]
     },
     "metadata": {},
     "output_type": "display_data"
    },
    {
     "name": "stdout",
     "output_type": "stream",
     "text": [
      "Keyboard interruption in main thread... closing server.\n",
      "Killing tunnel 127.0.0.1:7860 <> https://f3193e7fb5837331eb.gradio.live\n"
     ]
    },
    {
     "data": {
      "text/plain": []
     },
     "execution_count": 1,
     "metadata": {},
     "output_type": "execute_result"
    }
   ],
   "source": [
    "import numpy as np\n",
    "import gradio as gr\n",
    "\n",
    "def sepia(input_img):\n",
    "    sepia_filter = np.array([\n",
    "        [0.393, 0.769, 0.189], \n",
    "        [0.349, 0.686, 0.168], \n",
    "        [0.272, 0.534, 0.131]\n",
    "    ])\n",
    "    sepia_img = input_img.dot(sepia_filter.T)\n",
    "    sepia_img /= sepia_img.max()\n",
    "\n",
    "    return sepia_img\n",
    "\n",
    "demo = gr.Interface(sepia, \"image\", \"image\")\n",
    "\n",
    "demo.launch(debug=True, share=True)"
   ]
  },
  {
   "cell_type": "code",
   "execution_count": 2,
   "metadata": {},
   "outputs": [
    {
     "name": "stdout",
     "output_type": "stream",
     "text": [
      "Running on local URL:  http://127.0.0.1:7860\n",
      "Running on public URL: https://c9e065e301f94f5c48.gradio.live\n",
      "\n",
      "This share link expires in 72 hours. For free permanent hosting and GPU upgrades, run `gradio deploy` from Terminal to deploy to Spaces (https://huggingface.co/spaces)\n"
     ]
    },
    {
     "data": {
      "text/html": [
       "<div><iframe src=\"https://c9e065e301f94f5c48.gradio.live\" width=\"100%\" height=\"500\" allow=\"autoplay; camera; microphone; clipboard-read; clipboard-write;\" frameborder=\"0\" allowfullscreen></iframe></div>"
      ],
      "text/plain": [
       "<IPython.core.display.HTML object>"
      ]
     },
     "metadata": {},
     "output_type": "display_data"
    },
    {
     "name": "stderr",
     "output_type": "stream",
     "text": [
      "Traceback (most recent call last):\n",
      "  File \"C:\\Users\\lioki\\AppData\\Roaming\\Python\\Python310\\site-packages\\gradio\\routes.py\", line 507, in predict\n",
      "    output = await route_utils.call_process_api(\n",
      "  File \"C:\\Users\\lioki\\AppData\\Roaming\\Python\\Python310\\site-packages\\gradio\\route_utils.py\", line 219, in call_process_api\n",
      "    output = await app.get_blocks().process_api(\n",
      "  File \"C:\\Users\\lioki\\AppData\\Roaming\\Python\\Python310\\site-packages\\gradio\\blocks.py\", line 1437, in process_api\n",
      "    result = await self.call_function(\n",
      "  File \"C:\\Users\\lioki\\AppData\\Roaming\\Python\\Python310\\site-packages\\gradio\\blocks.py\", line 1109, in call_function\n",
      "    prediction = await anyio.to_thread.run_sync(\n",
      "  File \"C:\\Users\\lioki\\AppData\\Roaming\\Python\\Python310\\site-packages\\anyio\\to_thread.py\", line 33, in run_sync\n",
      "    return await get_asynclib().run_sync_in_worker_thread(\n",
      "  File \"C:\\Users\\lioki\\AppData\\Roaming\\Python\\Python310\\site-packages\\anyio\\_backends\\_asyncio.py\", line 877, in run_sync_in_worker_thread\n",
      "    return await future\n",
      "  File \"C:\\Users\\lioki\\AppData\\Roaming\\Python\\Python310\\site-packages\\anyio\\_backends\\_asyncio.py\", line 807, in run\n",
      "    result = context.run(func, *args)\n",
      "  File \"C:\\Users\\lioki\\AppData\\Roaming\\Python\\Python310\\site-packages\\gradio\\utils.py\", line 641, in wrapper\n",
      "    response = f(*args, **kwargs)\n",
      "  File \"C:\\Users\\lioki\\AppData\\Local\\Temp\\ipykernel_20992\\1312155376.py\", line 10, in sepia\n",
      "    sepia_img = input_img.dot(sepia_filter.T)\n",
      "AttributeError: 'NoneType' object has no attribute 'dot'\n",
      "Traceback (most recent call last):\n",
      "  File \"C:\\Users\\lioki\\AppData\\Roaming\\Python\\Python310\\site-packages\\gradio\\routes.py\", line 507, in predict\n",
      "    output = await route_utils.call_process_api(\n",
      "  File \"C:\\Users\\lioki\\AppData\\Roaming\\Python\\Python310\\site-packages\\gradio\\route_utils.py\", line 219, in call_process_api\n",
      "    output = await app.get_blocks().process_api(\n",
      "  File \"C:\\Users\\lioki\\AppData\\Roaming\\Python\\Python310\\site-packages\\gradio\\blocks.py\", line 1437, in process_api\n",
      "    result = await self.call_function(\n",
      "  File \"C:\\Users\\lioki\\AppData\\Roaming\\Python\\Python310\\site-packages\\gradio\\blocks.py\", line 1109, in call_function\n",
      "    prediction = await anyio.to_thread.run_sync(\n",
      "  File \"C:\\Users\\lioki\\AppData\\Roaming\\Python\\Python310\\site-packages\\anyio\\to_thread.py\", line 33, in run_sync\n",
      "    return await get_asynclib().run_sync_in_worker_thread(\n",
      "  File \"C:\\Users\\lioki\\AppData\\Roaming\\Python\\Python310\\site-packages\\anyio\\_backends\\_asyncio.py\", line 877, in run_sync_in_worker_thread\n",
      "    return await future\n",
      "  File \"C:\\Users\\lioki\\AppData\\Roaming\\Python\\Python310\\site-packages\\anyio\\_backends\\_asyncio.py\", line 807, in run\n",
      "    result = context.run(func, *args)\n",
      "  File \"C:\\Users\\lioki\\AppData\\Roaming\\Python\\Python310\\site-packages\\gradio\\utils.py\", line 641, in wrapper\n",
      "    response = f(*args, **kwargs)\n",
      "  File \"C:\\Users\\lioki\\AppData\\Local\\Temp\\ipykernel_20992\\1312155376.py\", line 10, in sepia\n",
      "    sepia_img = input_img.dot(sepia_filter.T)\n",
      "AttributeError: 'NoneType' object has no attribute 'dot'\n"
     ]
    },
    {
     "name": "stdout",
     "output_type": "stream",
     "text": [
      "Keyboard interruption in main thread... closing server.\n",
      "Killing tunnel 127.0.0.1:7860 <> https://c9e065e301f94f5c48.gradio.live\n"
     ]
    },
    {
     "data": {
      "text/plain": []
     },
     "execution_count": 2,
     "metadata": {},
     "output_type": "execute_result"
    }
   ],
   "source": [
    "import numpy as np\n",
    "import gradio as gr\n",
    "\n",
    "def sepia(input_img):\n",
    "    sepia_filter = np.array([\n",
    "        [0.393, 0.769, 0.189], \n",
    "        [0.349, 0.686, 0.168], \n",
    "        [0.272, 0.534, 0.131]\n",
    "    ])\n",
    "    sepia_img = input_img.dot(sepia_filter.T)\n",
    "    sepia_img /= sepia_img.max()\n",
    "\n",
    "    return sepia_img\n",
    "\n",
    "demo = gr.Interface(sepia, \"webcam\", \"image\")\n",
    "\n",
    "demo.launch(debug=True, share=True)"
   ]
  },
  {
   "cell_type": "code",
   "execution_count": 3,
   "metadata": {},
   "outputs": [
    {
     "name": "stdout",
     "output_type": "stream",
     "text": [
      "Running on local URL:  http://127.0.0.1:7860\n",
      "Running on public URL: https://f74012976c9b1018c8.gradio.live\n",
      "\n",
      "This share link expires in 72 hours. For free permanent hosting and GPU upgrades, run `gradio deploy` from Terminal to deploy to Spaces (https://huggingface.co/spaces)\n"
     ]
    },
    {
     "data": {
      "text/html": [
       "<div><iframe src=\"https://f74012976c9b1018c8.gradio.live\" width=\"100%\" height=\"500\" allow=\"autoplay; camera; microphone; clipboard-read; clipboard-write;\" frameborder=\"0\" allowfullscreen></iframe></div>"
      ],
      "text/plain": [
       "<IPython.core.display.HTML object>"
      ]
     },
     "metadata": {},
     "output_type": "display_data"
    },
    {
     "name": "stdout",
     "output_type": "stream",
     "text": [
      "Keyboard interruption in main thread... closing server.\n",
      "Killing tunnel 127.0.0.1:7860 <> https://f74012976c9b1018c8.gradio.live\n"
     ]
    },
    {
     "data": {
      "text/plain": []
     },
     "execution_count": 3,
     "metadata": {},
     "output_type": "execute_result"
    }
   ],
   "source": [
    "import gradio as gr\n",
    "\n",
    "def greet(name, is_morning, temperature):\n",
    "    if is_morning:\n",
    "        text = \"좋은 아침입니다.\"\n",
    "    else:\n",
    "        text = \"좋은 밤입니다.\"\n",
    "    \n",
    "    text = f\"{name}님 \" + text\n",
    "\n",
    "    celsius = (temperature - 32) * 5 / 9\n",
    "\n",
    "    return text, celsius\n",
    "\n",
    "demo = gr.Interface(\n",
    "    fn=greet, \n",
    "    inputs=['text', 'checkbox', gr.Slider(0, 100)], \n",
    "    outputs=['text', 'number']\n",
    ")\n",
    "\n",
    "demo.launch(debug=True, share=True)"
   ]
  }
 ],
 "metadata": {
  "kernelspec": {
   "display_name": "base",
   "language": "python",
   "name": "python3"
  },
  "language_info": {
   "codemirror_mode": {
    "name": "ipython",
    "version": 3
   },
   "file_extension": ".py",
   "mimetype": "text/x-python",
   "name": "python",
   "nbconvert_exporter": "python",
   "pygments_lexer": "ipython3",
   "version": "3.10.9"
  },
  "orig_nbformat": 4
 },
 "nbformat": 4,
 "nbformat_minor": 2
}
