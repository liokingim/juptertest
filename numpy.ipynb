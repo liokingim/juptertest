{
 "cells": [
  {
   "cell_type": "code",
   "execution_count": 1,
   "id": "1b7ebb59",
   "metadata": {},
   "outputs": [],
   "source": [
    "import numpy as np\n",
    "import matplotlib.pyplot as plt"
   ]
  },
  {
   "cell_type": "code",
   "execution_count": 2,
   "id": "15b3bcf7",
   "metadata": {},
   "outputs": [
    {
     "data": {
      "text/plain": [
       "array([1, 3, 5, 7, 9])"
      ]
     },
     "execution_count": 2,
     "metadata": {},
     "output_type": "execute_result"
    }
   ],
   "source": [
    "narray = np.array([1,3,5,7,9])\n",
    "narray"
   ]
  },
  {
   "cell_type": "code",
   "execution_count": 3,
   "id": "b758763e",
   "metadata": {},
   "outputs": [
    {
     "data": {
      "text/plain": [
       "(5,)"
      ]
     },
     "execution_count": 3,
     "metadata": {},
     "output_type": "execute_result"
    }
   ],
   "source": [
    "narray.shape"
   ]
  },
  {
   "cell_type": "code",
   "execution_count": 4,
   "id": "f196bc06",
   "metadata": {},
   "outputs": [
    {
     "data": {
      "text/plain": [
       "array([[0, 0, 0, 0, 0],\n",
       "       [0, 0, 0, 0, 0]])"
      ]
     },
     "execution_count": 4,
     "metadata": {},
     "output_type": "execute_result"
    }
   ],
   "source": [
    "zero = np.zeros((2,5), int)\n",
    "zero"
   ]
  },
  {
   "cell_type": "code",
   "execution_count": 5,
   "id": "5a71c4f3",
   "metadata": {},
   "outputs": [
    {
     "data": {
      "text/plain": [
       "array([[1., 1., 1., 1., 1.],\n",
       "       [1., 1., 1., 1., 1.],\n",
       "       [1., 1., 1., 1., 1.]])"
      ]
     },
     "execution_count": 5,
     "metadata": {},
     "output_type": "execute_result"
    }
   ],
   "source": [
    "one = np.ones((3,5))\n",
    "one"
   ]
  },
  {
   "cell_type": "code",
   "execution_count": 6,
   "id": "856b199d",
   "metadata": {},
   "outputs": [
    {
     "name": "stdout",
     "output_type": "stream",
     "text": [
      "[0.69842201 0.85184478 0.96378779]\n"
     ]
    }
   ],
   "source": [
    "r = np.random.rand(3)\n",
    "print(r)"
   ]
  },
  {
   "cell_type": "code",
   "execution_count": 7,
   "id": "de531aa8",
   "metadata": {},
   "outputs": [],
   "source": [
    "r1000 = np.random.rand(1000)\n"
   ]
  },
  {
   "cell_type": "code",
   "execution_count": 8,
   "id": "b1fb20e8",
   "metadata": {},
   "outputs": [
    {
     "data": {
      "image/png": "[encoded data removed]",
      "text/plain": [
       "<Figure size 640x480 with 1 Axes>"
      ]
     },
     "metadata": {},
     "output_type": "display_data"
    }
   ],
   "source": [
    "plt.hist(r1000)\n",
    "plt.grid()"
   ]
  },
  {
   "cell_type": "code",
   "execution_count": 9,
   "id": "eda11757",
   "metadata": {},
   "outputs": [
    {
     "data": {
      "text/plain": [
       "array([ 1.43259878,  0.82887526, -0.59693057])"
      ]
     },
     "execution_count": 9,
     "metadata": {},
     "output_type": "execute_result"
    }
   ],
   "source": [
    "rn = np.random.normal(0,1,3)\n",
    "rn"
   ]
  },
  {
   "cell_type": "code",
   "execution_count": 10,
   "id": "e23f5fba",
   "metadata": {},
   "outputs": [
    {
     "data": {
      "image/png": "[encoded data removed]",
      "text/plain": [
       "<Figure size 640x480 with 1 Axes>"
      ]
     },
     "metadata": {},
     "output_type": "display_data"
    }
   ],
   "source": [
    "rn1000 = np.random.normal(0,1,1000)\n",
    "plt.hist(rn1000)\n",
    "plt.grid()"
   ]
  },
  {
   "cell_type": "code",
   "execution_count": 11,
   "id": "c1710d38",
   "metadata": {},
   "outputs": [
    {
     "data": {
      "text/plain": [
       "array([16, 29, 66, 88, 60])"
      ]
     },
     "execution_count": 11,
     "metadata": {},
     "output_type": "execute_result"
    }
   ],
   "source": [
    "ni = np.random.randint(1, 100, 5)\n",
    "ni"
   ]
  },
  {
   "cell_type": "code",
   "execution_count": 12,
   "id": "ee974188",
   "metadata": {},
   "outputs": [
    {
     "name": "stdout",
     "output_type": "stream",
     "text": [
      "[0.4483631  0.17753075 0.69469748]\n"
     ]
    }
   ],
   "source": [
    "print(np.random.rand(3))"
   ]
  },
  {
   "cell_type": "code",
   "execution_count": 13,
   "id": "af92f9fd",
   "metadata": {},
   "outputs": [
    {
     "name": "stdout",
     "output_type": "stream",
     "text": [
      "[0.5488135  0.71518937 0.60276338]\n",
      "[0.5488135  0.71518937 0.60276338]\n"
     ]
    }
   ],
   "source": [
    "np.random.seed(0)\n",
    "print(np.random.rand(3))\n",
    "np.random.seed(0)\n",
    "print(np.random.rand(3))"
   ]
  },
  {
   "cell_type": "code",
   "execution_count": 17,
   "id": "01b33398",
   "metadata": {},
   "outputs": [
    {
     "data": {
      "text/plain": [
       "[0, 1, 2, 3, 4, 5, 6, 7, 8, 9]"
      ]
     },
     "execution_count": 17,
     "metadata": {},
     "output_type": "execute_result"
    }
   ],
   "source": [
    "rten = range(10)\n",
    "list(rten)\n"
   ]
  },
  {
   "cell_type": "code",
   "execution_count": 18,
   "id": "b55fe89e",
   "metadata": {},
   "outputs": [
    {
     "data": {
      "text/plain": [
       "[1, 2, 3, 4, 5]"
      ]
     },
     "execution_count": 18,
     "metadata": {},
     "output_type": "execute_result"
    }
   ],
   "source": [
    "five1 = range(1,6,1)\n",
    "list(five1)"
   ]
  },
  {
   "cell_type": "code",
   "execution_count": 19,
   "id": "e59fb8a2",
   "metadata": {},
   "outputs": [
    {
     "data": {
      "text/plain": [
       "[9, 8, 7, 6, 5, 4, 3, 2, 1, 0]"
      ]
     },
     "execution_count": 19,
     "metadata": {},
     "output_type": "execute_result"
    }
   ],
   "source": [
    "ten9 = range(9, -1, -1)\n",
    "list(ten9)"
   ]
  },
  {
   "cell_type": "code",
   "execution_count": 23,
   "id": "b52c53bf",
   "metadata": {},
   "outputs": [
    {
     "name": "stdout",
     "output_type": "stream",
     "text": [
      "1 번째 설거지 끝\n",
      "2 번째 설거지 끝\n",
      "3 번째 설거지 끝\n",
      "4 번째 설거지 끝\n",
      "5 번째 설거지 끝\n"
     ]
    }
   ],
   "source": [
    "for i in range(1,6):\n",
    "    print(i, \"번째 설거지 끝\")"
   ]
  },
  {
   "cell_type": "code",
   "execution_count": 24,
   "id": "190df5c9",
   "metadata": {},
   "outputs": [
    {
     "name": "stdout",
     "output_type": "stream",
     "text": [
      "10보다 큽니다.\n"
     ]
    }
   ],
   "source": [
    "num = 15\n",
    "if num >= 10:\n",
    "    print(\"10보다 큽니다.\")"
   ]
  },
  {
   "cell_type": "code",
   "execution_count": 32,
   "id": "d4032203",
   "metadata": {},
   "outputs": [
    {
     "name": "stdout",
     "output_type": "stream",
     "text": [
      "짝수입니다.\n"
     ]
    }
   ],
   "source": [
    "num2 = 10\n",
    "\n",
    "if num2%2 == 0:\n",
    "    print(\"짝수입니다.\")\n",
    "else:\n",
    "    print(\"홀수입니다.\")\n",
    "    "
   ]
  },
  {
   "cell_type": "code",
   "execution_count": 38,
   "id": "4d70d618",
   "metadata": {},
   "outputs": [
    {
     "name": "stdout",
     "output_type": "stream",
     "text": [
      "홀수입니다.\n",
      "짝수입니다.\n"
     ]
    }
   ],
   "source": [
    "def number_check(num):\n",
    "    if num%2 == 0:\n",
    "        print(\"짝수입니다.\")\n",
    "    else:\n",
    "        print(\"홀수입니다.\")\n",
    "\n",
    "number_check(11)\n",
    "number_check(10)"
   ]
  },
  {
   "cell_type": "code",
   "execution_count": 30,
   "id": "6af488a8",
   "metadata": {},
   "outputs": [
    {
     "name": "stdout",
     "output_type": "stream",
     "text": [
      "짝수입니다.\n"
     ]
    }
   ],
   "source": []
  },
  {
   "cell_type": "code",
   "execution_count": null,
   "id": "b6166e89",
   "metadata": {},
   "outputs": [],
   "source": []
  }
 ],
 "metadata": {
  "kernelspec": {
   "display_name": "Python 3 (ipykernel)",
   "language": "python",
   "name": "python3"
  },
  "language_info": {
   "codemirror_mode": {
    "name": "ipython",
    "version": 3
   },
   "file_extension": ".py",
   "mimetype": "text/x-python",
   "name": "python",
   "nbconvert_exporter": "python",
   "pygments_lexer": "ipython3",
   "version": "3.10.9"
  }
 },
 "nbformat": 4,
 "nbformat_minor": 5
}
