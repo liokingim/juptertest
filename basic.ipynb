{
 "cells": [
  {
   "cell_type": "code",
   "execution_count": 1,
   "metadata": {},
   "outputs": [],
   "source": [
    "import numpy as np"
   ]
  },
  {
   "cell_type": "code",
   "execution_count": 3,
   "metadata": {},
   "outputs": [
    {
     "name": "stdout",
     "output_type": "stream",
     "text": [
      "[[0, 0, 0], [0], [0, 0, 0], [0, 0]]\n"
     ]
    }
   ],
   "source": [
    "a = [3,1,3,2]\n",
    "b = [[0]*i for i in a]\n",
    "print(b)"
   ]
  },
  {
   "cell_type": "code",
   "execution_count": 4,
   "metadata": {},
   "outputs": [
    {
     "name": "stdout",
     "output_type": "stream",
     "text": [
      "[[0, 0, 0], [0], [0, 0, 0], [0, 0]]\n"
     ]
    }
   ],
   "source": [
    "b = []\n",
    "for i in a:\n",
    "    line = []\n",
    "    for j in range(i):\n",
    "        line += [0]\n",
    "    b += [line]\n",
    "print(b)"
   ]
  },
  {
   "cell_type": "code",
   "execution_count": 5,
   "metadata": {},
   "outputs": [
    {
     "name": "stdout",
     "output_type": "stream",
     "text": [
      "[[100, 2], [3, 4]] [[100, 2], [3, 4]]\n"
     ]
    }
   ],
   "source": [
    "a = [[1,2], [3,4]]\n",
    "b = a.copy()\n",
    "b[0][0] = 100\n",
    "print(a,b)"
   ]
  },
  {
   "cell_type": "code",
   "execution_count": 6,
   "metadata": {},
   "outputs": [
    {
     "name": "stdout",
     "output_type": "stream",
     "text": [
      "[[1, 2], [3, 4]] [[100, 2], [3, 4]]\n"
     ]
    }
   ],
   "source": [
    "import copy\n",
    "a = [[1,2], [3,4]]\n",
    "b = copy.deepcopy(a)\n",
    "b[0][0] = 100\n",
    "print(a,b)"
   ]
  },
  {
   "cell_type": "code",
   "execution_count": 10,
   "metadata": {},
   "outputs": [
    {
     "name": "stdout",
     "output_type": "stream",
     "text": [
      "[0, 0, 0, 1, 1, 1, 2, 2, 2]\n",
      "[0, 0, 0, 1, 1, 1, 2, 2, 2]\n"
     ]
    }
   ],
   "source": [
    "print([i for i in range(3) for j in range(3)])\n",
    "\n",
    "a = []\n",
    "for i in range(3):\n",
    "    for j in range(3):\n",
    "        a += [i]\n",
    "print(a)"
   ]
  },
  {
   "cell_type": "code",
   "execution_count": 16,
   "metadata": {},
   "outputs": [
    {
     "name": "stdout",
     "output_type": "stream",
     "text": [
      "a = 1 b = 2 c = aaaa\n"
     ]
    }
   ],
   "source": [
    "a = 1\n",
    "b = 2\n",
    "c = \"aaaa\"\n",
    "print(\"a =\",a,\"b =\",b,\"c =\",c)"
   ]
  },
  {
   "cell_type": "code",
   "execution_count": 17,
   "metadata": {},
   "outputs": [
    {
     "name": "stdout",
     "output_type": "stream",
     "text": [
      "a=1, b=2, c=aaaa\n"
     ]
    }
   ],
   "source": [
    "a = 1\n",
    "b = 2\n",
    "c = \"aaaa\"\n",
    "print(\"a={}, b={}, c={}\".format(a,b,c))"
   ]
  },
  {
   "cell_type": "code",
   "execution_count": 18,
   "metadata": {},
   "outputs": [
    {
     "name": "stdout",
     "output_type": "stream",
     "text": [
      "a=1, b=2, c=aaaa\n"
     ]
    }
   ],
   "source": [
    "a = 1\n",
    "b = 2\n",
    "c = \"aaaa\"\n",
    "print(\"a={0}, b={1}, c={2}\".format(a,b,c))"
   ]
  },
  {
   "cell_type": "code",
   "execution_count": 19,
   "metadata": {},
   "outputs": [
    {
     "name": "stdout",
     "output_type": "stream",
     "text": [
      "a=1, b=2, c=aaaa\n"
     ]
    }
   ],
   "source": [
    "a = 1\n",
    "b = 2\n",
    "c = \"aaaa\"\n",
    "print(\"a={num1}, b={num2}, c={num3}\".format(num1=a,num2=b,num3=c))"
   ]
  },
  {
   "cell_type": "code",
   "execution_count": 20,
   "metadata": {},
   "outputs": [
    {
     "name": "stdout",
     "output_type": "stream",
     "text": [
      "a=1, b=2, c=aaaa\n"
     ]
    }
   ],
   "source": [
    "a = 1\n",
    "b = 2\n",
    "c = \"aaaa\"\n",
    "print(f\"a={a}, b={b}, c={c}\")"
   ]
  },
  {
   "cell_type": "markdown",
   "metadata": {},
   "source": [
    "텍스트 파일 읽고 쓰기"
   ]
  },
  {
   "cell_type": "code",
   "execution_count": 29,
   "metadata": {},
   "outputs": [],
   "source": [
    "import os\n",
    "folder_name = \"saved\"\n",
    "if not os.path.exists(folder_name):\n",
    "    os.makedirs(folder_name)\n",
    "\n",
    "with open(\"saved/Hello.txt\", \"w\") as f:\n",
    "    f.write(\"Hello World!\\n\")\n",
    "    f.write(\"Hello World!\\n\")\n",
    "    f.write(\"Hello World!\\n\")\n",
    "    f.write(\"Hello World!\\n\")\n",
    "  "
   ]
  },
  {
   "cell_type": "code",
   "execution_count": 30,
   "metadata": {},
   "outputs": [
    {
     "name": "stdout",
     "output_type": "stream",
     "text": [
      "Hello World!\n",
      "Hello World!\n",
      "Hello World!\n",
      "Hello World!\n",
      "\n"
     ]
    }
   ],
   "source": [
    "with open(\"saved/Hello.txt\", \"r\") as f:\n",
    "    s = f.read()\n",
    "print(s)"
   ]
  },
  {
   "cell_type": "code",
   "execution_count": 32,
   "metadata": {},
   "outputs": [
    {
     "name": "stdout",
     "output_type": "stream",
     "text": [
      "Hello World!\n",
      "\n",
      "Hello World!\n",
      "\n",
      "Hello World!\n",
      "\n"
     ]
    },
    {
     "data": {
      "text/plain": [
       "13"
      ]
     },
     "execution_count": 32,
     "metadata": {},
     "output_type": "execute_result"
    }
   ],
   "source": [
    "with open(\"saved/Hello.txt\", \"r\") as f:\n",
    "    for i in range(3):\n",
    "        s = f.readline()\n",
    "        print(s)\n",
    "len(s)"
   ]
  },
  {
   "cell_type": "code",
   "execution_count": 33,
   "metadata": {},
   "outputs": [
    {
     "name": "stdout",
     "output_type": "stream",
     "text": [
      "['Hello World!\\n', 'Hello World!\\n', 'Hello World!\\n', 'Hello World!\\n']\n"
     ]
    },
    {
     "data": {
      "text/plain": [
       "4"
      ]
     },
     "execution_count": 33,
     "metadata": {},
     "output_type": "execute_result"
    }
   ],
   "source": [
    "with open(\"saved/Hello.txt\", \"r\") as f:\n",
    "    s = f.readlines()\n",
    "    print(s)\n",
    "\n",
    "len(s)"
   ]
  },
  {
   "cell_type": "code",
   "execution_count": 34,
   "metadata": {},
   "outputs": [
    {
     "name": "stdout",
     "output_type": "stream",
     "text": [
      "Hello World!\n",
      "Hello World!\n",
      "Hello World!\n",
      "Hello World!\n"
     ]
    }
   ],
   "source": [
    "with open(\"saved/Hello.txt\", \"r\") as f:\n",
    "    line = None\n",
    "    while line != \"\":\n",
    "        line = f.readline()\n",
    "        print(line, end=\"\")\n"
   ]
  },
  {
   "cell_type": "markdown",
   "metadata": {},
   "source": [
    "関数"
   ]
  },
  {
   "cell_type": "code",
   "execution_count": 35,
   "metadata": {},
   "outputs": [
    {
     "data": {
      "text/plain": [
       "4"
      ]
     },
     "execution_count": 35,
     "metadata": {},
     "output_type": "execute_result"
    }
   ],
   "source": [
    "def f(x):\n",
    "    return x**2\n",
    "\n",
    "f(-2)"
   ]
  },
  {
   "cell_type": "code",
   "execution_count": 36,
   "metadata": {},
   "outputs": [
    {
     "name": "stdout",
     "output_type": "stream",
     "text": [
      "Hello World\n"
     ]
    }
   ],
   "source": [
    "def say():\n",
    "    print(\"Hello World\")\n",
    "\n",
    "say()"
   ]
  },
  {
   "cell_type": "code",
   "execution_count": 38,
   "metadata": {},
   "outputs": [
    {
     "name": "stdout",
     "output_type": "stream",
     "text": [
      "3\n"
     ]
    }
   ],
   "source": [
    "def add( a, b):\n",
    "    print(a + b)\n",
    "\n",
    "add(1,2)"
   ]
  },
  {
   "cell_type": "code",
   "execution_count": 40,
   "metadata": {},
   "outputs": [
    {
     "name": "stdout",
     "output_type": "stream",
     "text": [
      "3\n"
     ]
    }
   ],
   "source": [
    "def add(a,b):\n",
    "    return a+b\n",
    "\n",
    "c = add(1,2)\n",
    "\n",
    "print(c)"
   ]
  },
  {
   "cell_type": "code",
   "execution_count": 43,
   "metadata": {},
   "outputs": [
    {
     "name": "stdout",
     "output_type": "stream",
     "text": [
      "30 -10\n",
      "(30, -10)\n"
     ]
    }
   ],
   "source": [
    "def add_sub(a,b):\n",
    "    c=a+b\n",
    "    d=a-b\n",
    "    return c,d\n",
    "x, y = add_sub(10, 20)\n",
    "print(x, y)\n",
    "\n",
    "x = add_sub(10, 20)\n",
    "print(x)"
   ]
  },
  {
   "cell_type": "code",
   "execution_count": 44,
   "metadata": {},
   "outputs": [
    {
     "name": "stdout",
     "output_type": "stream",
     "text": [
      "30\n",
      "200\n"
     ]
    }
   ],
   "source": [
    "def add(a,b):\n",
    "    return a + b\n",
    "def mul(a,b):\n",
    "    return a*b\n",
    "def show_addmul(a,b):\n",
    "    print(add(a,b))\n",
    "    print(mul(a,b))\n",
    "\n",
    "show_addmul(10,20)"
   ]
  },
  {
   "cell_type": "code",
   "execution_count": 52,
   "metadata": {},
   "outputs": [
    {
     "name": "stdout",
     "output_type": "stream",
     "text": [
      "(10, 20)\n",
      "10 20\n",
      "30\n",
      "200\n",
      "(10, 20)\n"
     ]
    },
    {
     "data": {
      "text/plain": [
       "tuple"
      ]
     },
     "execution_count": 52,
     "metadata": {},
     "output_type": "execute_result"
    }
   ],
   "source": [
    "x = (10,20)\n",
    "print(x)\n",
    "print(*x) # unpacking\n",
    "\n",
    "show_addmul(*x)\n",
    "x = 10,20\n",
    "print(x)\n",
    "type(x)"
   ]
  },
  {
   "cell_type": "code",
   "execution_count": 57,
   "metadata": {},
   "outputs": [
    {
     "name": "stdout",
     "output_type": "stream",
     "text": [
      "a in () type <class 'tuple'>\n",
      "a in (1, 2, 3, 4) type <class 'tuple'>\n"
     ]
    }
   ],
   "source": [
    "def my_func(*a):\n",
    "    print(f\"a in {a} type {type(a)}\")\n",
    "\n",
    "my_func()\n",
    "my_func(1,2,3,4)"
   ]
  },
  {
   "cell_type": "code",
   "execution_count": 60,
   "metadata": {},
   "outputs": [
    {
     "name": "stdout",
     "output_type": "stream",
     "text": [
      "args in (1, 2, 3, 4) type <class 'tuple'>\n",
      "1\n",
      "2\n",
      "3\n",
      "4\n"
     ]
    }
   ],
   "source": [
    "def my_func(*args):\n",
    "    print(f\"args in {args} type {type(args)}\")\n",
    "    for i in args:\n",
    "        print(i)\n",
    "\n",
    "my_func(1,2,3,4)"
   ]
  },
  {
   "cell_type": "code",
   "execution_count": 62,
   "metadata": {},
   "outputs": [
    {
     "name": "stdout",
     "output_type": "stream",
     "text": [
      "args in ('read', 'れあｄ') type <class 'tuple'>\n",
      "read\n",
      "れあｄ\n"
     ]
    }
   ],
   "source": [
    "def my_func(*args):\n",
    "    print(f\"args in {args} type {type(args)}\")\n",
    "    for i in args:\n",
    "        print(i)\n",
    "\n",
    "my_func(\"read\", \"れあｄ\")"
   ]
  },
  {
   "cell_type": "code",
   "execution_count": 67,
   "metadata": {},
   "outputs": [
    {
     "name": "stdout",
     "output_type": "stream",
     "text": [
      "name is heack age is 100 address is korea\n",
      "name is heack age is 100 address is korea\n",
      "name is heack age is 100 address is korea\n"
     ]
    }
   ],
   "source": [
    "def introduce(name, age, address):\n",
    "    print(f\"name is {name} age is {age} address is {address}\")\n",
    "\n",
    "introduce(\"heack\", 100, \"korea\")\n",
    "introduce(name=\"heack\", address=\"korea\", age=100)\n",
    "\n",
    "name=\"heack\" \n",
    "address=\"korea\"\n",
    "age=100\n",
    "introduce(name=name, address=address, age=age)"
   ]
  },
  {
   "cell_type": "code",
   "execution_count": 70,
   "metadata": {},
   "outputs": [
    {
     "name": "stdout",
     "output_type": "stream",
     "text": [
      "name is heack age is 100 address is japan\n",
      "name is heack age is screat address is screat\n"
     ]
    }
   ],
   "source": [
    "def introduce1(name, age, address):\n",
    "    print(f\"name is {name} age is {age} address is {address}\")\n",
    "\n",
    "def introduce2(name, age=\"screat\", address=\"screat\"):\n",
    "    print(f\"name is {name} age is {age} address is {address}\")\n",
    "\n",
    "introduce1(name=\"heack\", address=\"japan\", age=100)\n",
    "introduce2(name=\"heack\")"
   ]
  },
  {
   "cell_type": "code",
   "execution_count": 75,
   "metadata": {},
   "outputs": [
    {
     "name": "stdout",
     "output_type": "stream",
     "text": [
      "name age address\n",
      "name is name age is age address is address\n",
      "{'name': 'kkk', 'age': 100, 'address': 'korea'}\n",
      "name is kkk age is 100 address is korea\n"
     ]
    }
   ],
   "source": [
    "d = {\"name\":\"kkk\", \"age\":100, \"address\":\"korea\"}\n",
    "print(*d)\n",
    "introduce2(*d)\n",
    "print({**d})\n",
    "introduce2(**d)"
   ]
  },
  {
   "cell_type": "code",
   "execution_count": 79,
   "metadata": {},
   "outputs": [
    {
     "name": "stdout",
     "output_type": "stream",
     "text": [
      "k in {'name': 'hhh'} type is <class 'dict'>\n",
      "k in {'name': 'hhh', 'age': 111, 'address': 'korea'} type is <class 'dict'>\n"
     ]
    }
   ],
   "source": [
    "def my_func(**kwargs):\n",
    "    print(f\"k in {kwargs} type is {type(kwargs)}\")\n",
    "\n",
    "my_func(name=\"hhh\")\n",
    "my_func(name=\"hhh\", age=111, address=\"korea\")"
   ]
  },
  {
   "cell_type": "code",
   "execution_count": 5,
   "metadata": {},
   "outputs": [
    {
     "name": "stdout",
     "output_type": "stream",
     "text": [
      "k in {'name': 'hhh', 'age': 100, 'address': 'korea'} type is <class 'dict'>\n",
      "name is hhh\n",
      "age is 100\n",
      "address is korea\n"
     ]
    }
   ],
   "source": [
    "def introduce(**kwargs):\n",
    "    print(f\"k in {kwargs} type is {type(kwargs)}\")\n",
    "    if \"name\" in kwargs:\n",
    "        print(\"name is\", kwargs[\"name\"])\n",
    "    if \"age\" in kwargs:\n",
    "        print(\"age is\", kwargs[\"age\"])\n",
    "    if \"address\" in kwargs:\n",
    "        print(\"address is\", kwargs[\"address\"])\n",
    "\n",
    "introduce(name=\"hhh\", age=100, address=\"korea\")"
   ]
  },
  {
   "cell_type": "markdown",
   "metadata": {},
   "source": [
    "람다"
   ]
  },
  {
   "cell_type": "code",
   "execution_count": 1,
   "metadata": {},
   "outputs": [
    {
     "data": {
      "text/plain": [
       "29"
      ]
     },
     "execution_count": 1,
     "metadata": {},
     "output_type": "execute_result"
    }
   ],
   "source": [
    "def plus_ten(x):\n",
    "    return x + 10\n",
    "plus_ten(19)"
   ]
  },
  {
   "cell_type": "code",
   "execution_count": 3,
   "metadata": {},
   "outputs": [
    {
     "data": {
      "text/plain": [
       "20"
      ]
     },
     "execution_count": 3,
     "metadata": {},
     "output_type": "execute_result"
    }
   ],
   "source": [
    "plus_ten = lambda x: x + 10\n",
    "plus_ten(10)"
   ]
  },
  {
   "cell_type": "code",
   "execution_count": 4,
   "metadata": {},
   "outputs": [
    {
     "data": {
      "text/plain": [
       "20"
      ]
     },
     "execution_count": 4,
     "metadata": {},
     "output_type": "execute_result"
    }
   ],
   "source": [
    "(lambda x: x+ 10)(10)"
   ]
  },
  {
   "cell_type": "code",
   "execution_count": 7,
   "metadata": {},
   "outputs": [
    {
     "name": "stdout",
     "output_type": "stream",
     "text": [
      "[11, 12, 13]\n"
     ]
    }
   ],
   "source": [
    "def plus_ten(x):\n",
    "    return x + 10\n",
    "list(map(plus_ten, [1,2,3]))\n",
    "\n",
    "print(list(map(lambda x: x+10, [1,2,3])))"
   ]
  },
  {
   "cell_type": "code",
   "execution_count": 10,
   "metadata": {},
   "outputs": [
    {
     "data": {
      "text/plain": [
       "30"
      ]
     },
     "execution_count": 10,
     "metadata": {},
     "output_type": "execute_result"
    }
   ],
   "source": [
    "f = lambda a,b : a+b\n",
    "f(10,20)"
   ]
  },
  {
   "cell_type": "code",
   "execution_count": 11,
   "metadata": {},
   "outputs": [
    {
     "data": {
      "text/plain": [
       "[3, 5, 7]"
      ]
     },
     "execution_count": 11,
     "metadata": {},
     "output_type": "execute_result"
    }
   ],
   "source": [
    "f = lambda a,b : a+b\n",
    "list(map(f, [1,2,3], [2,3,4]))"
   ]
  },
  {
   "cell_type": "code",
   "execution_count": 12,
   "metadata": {},
   "outputs": [
    {
     "name": "stdout",
     "output_type": "stream",
     "text": [
      "31\n"
     ]
    }
   ],
   "source": [
    "def add_1(a,b):\n",
    "    c = 1\n",
    "    return a+b+c\n",
    "print(add_1(10,20))\n",
    "\n",
    "#lambda a,b: c=1 a+b+c "
   ]
  },
  {
   "cell_type": "code",
   "execution_count": 14,
   "metadata": {},
   "outputs": [
    {
     "name": "stdout",
     "output_type": "stream",
     "text": [
      "[1, 4, 3, 8]\n",
      "[1, 4, 3, 8]\n"
     ]
    }
   ],
   "source": [
    "def func(x):\n",
    "    if x%2 == 0:\n",
    "        return 2*x\n",
    "    else:\n",
    "        return x\n",
    "    \n",
    "print(list(map(func, [1,2,3,4])))\n",
    "\n",
    "f = lambda x: 2*x if x%2 == 0 else x\n",
    "print(list(map(f, [1,2,3,4])))\n",
    "\n",
    "#f = lambda x: 2*x if x%2 == 0: else must\n"
   ]
  },
  {
   "cell_type": "code",
   "execution_count": 18,
   "metadata": {},
   "outputs": [
    {
     "name": "stdout",
     "output_type": "stream",
     "text": [
      "[2, 6, 3, 4]\n",
      "[2, 6, 3, 4]\n"
     ]
    }
   ],
   "source": [
    "def func(x):\n",
    "    if x==1:\n",
    "        return 2*x\n",
    "    elif x == 2:\n",
    "        return 3*x\n",
    "    else:\n",
    "        return x\n",
    "    \n",
    "print(list(map(func, [1,2,3,4])))\n",
    "\n",
    "f = lambda x: 2*x if x == 1 else 3*x if x == 2 else x  \n",
    "print(list(map(f, [1,2,3,4])))"
   ]
  },
  {
   "cell_type": "code",
   "execution_count": 20,
   "metadata": {},
   "outputs": [
    {
     "name": "stdout",
     "output_type": "stream",
     "text": [
      "Hello\n"
     ]
    }
   ],
   "source": [
    "class Robot:\n",
    "    def greeting(self):\n",
    "        print(\"Hello\")\n",
    "\n",
    "bot1 = Robot()\n",
    "bot1.greeting()"
   ]
  },
  {
   "cell_type": "code",
   "execution_count": 21,
   "metadata": {},
   "outputs": [
    {
     "name": "stdout",
     "output_type": "stream",
     "text": [
      "__init__ start\n"
     ]
    }
   ],
   "source": [
    "class Robot:\n",
    "    def __init__(self):\n",
    "        print(\"__init__ start\")\n",
    "\n",
    "bot2 = Robot()"
   ]
  },
  {
   "cell_type": "code",
   "execution_count": 25,
   "metadata": {},
   "outputs": [
    {
     "name": "stdout",
     "output_type": "stream",
     "text": [
      "Hello..\n"
     ]
    }
   ],
   "source": [
    "class Robot:\n",
    "    def __init__(self):\n",
    "        self.sentence  = \"Hello..\"\n",
    "\n",
    "    def greeting(self):\n",
    "        print(self.sentence)\n",
    "\n",
    "bot3 = Robot()\n",
    "bot3.greeting()"
   ]
  },
  {
   "cell_type": "code",
   "execution_count": 36,
   "metadata": {},
   "outputs": [
    {
     "name": "stdout",
     "output_type": "stream",
     "text": [
      "Hello\n",
      "height: 180\n",
      "180\n",
      "Hello\n",
      "Hello\n",
      "height: 170\n",
      "Hello World\n",
      "height: 160\n"
     ]
    }
   ],
   "source": [
    "class Robot:\n",
    "    def __init__(self, height, sentence):\n",
    "        self.height  = height\n",
    "        self.sentence  = sentence\n",
    "\n",
    "    def greeting(self):\n",
    "        print(self.sentence)\n",
    "        print(f\"height: {self.height}\")\n",
    "\n",
    "bot1 = Robot(180, \"Hello\")\n",
    "bot1.greeting()\n",
    "\n",
    "print(bot1.height)\n",
    "print(bot1.sentence)\n",
    "\n",
    "bot1.height -= 10\n",
    "bot1.greeting()\n",
    "\n",
    "bot2 = Robot(160, \"Hello World\")\n",
    "bot2.greeting()"
   ]
  },
  {
   "cell_type": "code",
   "execution_count": 42,
   "metadata": {},
   "outputs": [
    {
     "name": "stdout",
     "output_type": "stream",
     "text": [
      "Hello\n",
      "height: 170\n"
     ]
    }
   ],
   "source": [
    "class Robot:\n",
    "    def __init__(self, height, sentence):\n",
    "        self.__height  = height\n",
    "        self.sentence  = sentence\n",
    "\n",
    "    def greeting(self):\n",
    "        print(self.sentence)\n",
    "        self.__height -= 10\n",
    "        print(f\"height: {self.__height}\")\n",
    "\n",
    "bot1 = Robot(180, \"Hello\")\n",
    "bot1.greeting()\n",
    "\n",
    "# bot1.__height -= 10\n",
    "# print(bot1.__height)\n"
   ]
  },
  {
   "cell_type": "markdown",
   "metadata": {},
   "source": [
    "상속은 효율화다\n"
   ]
  },
  {
   "cell_type": "code",
   "execution_count": 45,
   "metadata": {},
   "outputs": [
    {
     "name": "stdout",
     "output_type": "stream",
     "text": [
      "Hello World...\n",
      "Good Work...\n"
     ]
    }
   ],
   "source": [
    "class Robot:\n",
    "    def greeting(self):\n",
    "        print(\"Hello World...\")\n",
    "\n",
    "class Study_Bot(Robot):\n",
    "    def study(self):\n",
    "        print(\"Good Work...\")\n",
    "\n",
    "bot1 = Study_Bot()\n",
    "bot1.greeting()\n",
    "bot1.study()"
   ]
  },
  {
   "cell_type": "code",
   "execution_count": 49,
   "metadata": {},
   "outputs": [
    {
     "name": "stdout",
     "output_type": "stream",
     "text": [
      "Hello Robot.\n",
      "Study Robot...\n"
     ]
    }
   ],
   "source": [
    "class Robot:\n",
    "    def greeting(self):\n",
    "        print(\"Hello Robot.\")\n",
    "\n",
    "class Study_Bot(Robot):\n",
    "    def greeting(self):\n",
    "        super().greeting()\n",
    "        print(\"Study Robot...\")\n",
    "    \n",
    "bot1 = Study_Bot()\n",
    "bot1.greeting()\n"
   ]
  },
  {
   "cell_type": "code",
   "execution_count": 52,
   "metadata": {},
   "outputs": [
    {
     "name": "stdout",
     "output_type": "stream",
     "text": [
      "Hello Robot.\n",
      "Study Robot...\n",
      "10\n",
      "100\n"
     ]
    }
   ],
   "source": [
    "class Robot:\n",
    "    def func1(self):\n",
    "        print(\"Hello Robot.\")\n",
    "        self.money = 100\n",
    "\n",
    "class Study_Bot(Robot):\n",
    "    def func2(self):\n",
    "        print(\"Study Robot...\")\n",
    "        self.book = 10\n",
    "\n",
    "bot1 = Study_Bot()\n",
    "bot1.func1()\n",
    "bot1.func2()\n",
    "print(bot1.book)\n",
    "print(bot1.money)"
   ]
  },
  {
   "cell_type": "code",
   "execution_count": 60,
   "metadata": {},
   "outputs": [
    {
     "name": "stdout",
     "output_type": "stream",
     "text": [
      "Hello Robot.\n",
      "100\n",
      "Hello Robot.\n",
      "Study Robot...\n",
      "10\n",
      "100\n"
     ]
    }
   ],
   "source": [
    "class Robot:\n",
    "    def __init__(self):\n",
    "        self.money = 100\n",
    "        print(\"Hello Robot.\")\n",
    "        \n",
    "class Study_Bot(Robot):\n",
    "    def __init__(self):\n",
    "        super().__init__()\n",
    "        self.book = 10\n",
    "        print(\"Study Robot...\")\n",
    "\n",
    "bot1 = Robot()\n",
    "print(bot1.money)\n",
    "\n",
    "bot2 = Study_Bot()\n",
    "print(bot2.book)\n",
    "print(bot2.money)"
   ]
  },
  {
   "cell_type": "code",
   "execution_count": 62,
   "metadata": {},
   "outputs": [
    {
     "name": "stdout",
     "output_type": "stream",
     "text": [
      "Hello Robot.\n",
      "Yami.\n",
      "Study Robot...\n"
     ]
    }
   ],
   "source": [
    "class Robot:\n",
    "    def greeting(self):\n",
    "        print(\"Hello Robot.\")\n",
    "\n",
    "class Life:\n",
    "    def eat(self):\n",
    "        print(\"Yami.\")\n",
    "\n",
    "class Study_Bot(Robot, Life):\n",
    "    def study(self):\n",
    "        print(\"Study Robot...\")\n",
    "\n",
    "bot1 = Study_Bot()\n",
    "bot1.greeting()\n",
    "bot1.eat()\n",
    "bot1.study()"
   ]
  },
  {
   "cell_type": "code",
   "execution_count": 64,
   "metadata": {},
   "outputs": [
    {
     "name": "stdout",
     "output_type": "stream",
     "text": [
      "D\n",
      "B\n"
     ]
    }
   ],
   "source": [
    "class A:\n",
    "    def greeting(self):\n",
    "        print(\"A\")\n",
    "\n",
    "class B(A):\n",
    "    def greeting(self):\n",
    "        print(\"B\")\n",
    "\n",
    "class C(A):\n",
    "    def greeting(self):\n",
    "        print(\"C\")\n",
    "\n",
    "class D(B, C):\n",
    "    def __init__(self):\n",
    "        print(\"D\")\n",
    "\n",
    "x = D()\n",
    "x.greeting()"
   ]
  },
  {
   "cell_type": "code",
   "execution_count": 68,
   "metadata": {},
   "outputs": [
    {
     "name": "stdout",
     "output_type": "stream",
     "text": [
      "<class 'list_iterator'>\n",
      "1\n",
      "2\n",
      "3\n"
     ]
    },
    {
     "ename": "StopIteration",
     "evalue": "",
     "output_type": "error",
     "traceback": [
      "\u001b[1;31m---------------------------------------------------------------------------\u001b[0m",
      "\u001b[1;31mStopIteration\u001b[0m                             Traceback (most recent call last)",
      "Cell \u001b[1;32mIn[68], line 7\u001b[0m\n\u001b[0;32m      5\u001b[0m \u001b[39mprint\u001b[39m(\u001b[39mnext\u001b[39m(a_it))\n\u001b[0;32m      6\u001b[0m \u001b[39mprint\u001b[39m(\u001b[39mnext\u001b[39m(a_it))\n\u001b[1;32m----> 7\u001b[0m \u001b[39mprint\u001b[39m(\u001b[39mnext\u001b[39;49m(a_it))\n",
      "\u001b[1;31mStopIteration\u001b[0m: "
     ]
    }
   ],
   "source": [
    "a = [1,2,3]\n",
    "a_it = iter(a)\n",
    "print(type(a_it))\n",
    "print(next(a_it))\n",
    "print(next(a_it))\n",
    "print(next(a_it))\n"
   ]
  }
 ],
 "metadata": {
  "kernelspec": {
   "display_name": "base",
   "language": "python",
   "name": "python3"
  },
  "language_info": {
   "codemirror_mode": {
    "name": "ipython",
    "version": 3
   },
   "file_extension": ".py",
   "mimetype": "text/x-python",
   "name": "python",
   "nbconvert_exporter": "python",
   "pygments_lexer": "ipython3",
   "version": "3.10.9"
  },
  "orig_nbformat": 4
 },
 "nbformat": 4,
 "nbformat_minor": 2
}
