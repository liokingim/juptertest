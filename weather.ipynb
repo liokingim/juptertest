{
 "cells": [
  {
   "cell_type": "code",
   "execution_count": 1,
   "metadata": {},
   "outputs": [],
   "source": [
    "import requests\n",
    "from bs4 import BeautifulSoup"
   ]
  },
  {
   "cell_type": "code",
   "execution_count": 5,
   "metadata": {},
   "outputs": [],
   "source": [
    "response = requests.get(\"https://pythondojang.bitbucket.io/weather/observation/currentweather.html\")\n",
    "soup = BeautifulSoup(response.content, 'html.parser')\n"
   ]
  },
  {
   "cell_type": "code",
   "execution_count": 13,
   "metadata": {},
   "outputs": [],
   "source": [
    "table = soup.find('table', {'class': 'table_develop3'})\n",
    "data = []\n",
    "\n",
    "for tr in table.find_all('tr'):\n",
    "    tds = list(tr.find_all('td'))\n",
    "\n",
    "    for td in tds:\n",
    "        if td.find('a'):\n",
    "            point = td.find('a').text\n",
    "            temperature = tds[5].text\n",
    "            humidity = tds[9].text\n",
    "            data.append([point, temperature, humidity])\n",
    "\n"
   ]
  },
  {
   "cell_type": "code",
   "execution_count": null,
   "metadata": {},
   "outputs": [],
   "source": [
    "with open('weather.csv', 'w') as file:\n",
    "    file.write('point,temperature,humidity\\n')\n",
    "    for i in data:\n",
    "        file.write('{0},{1},{2}\\n'.format(i[0], i[1], i[2]))"
   ]
  }
 ],
 "metadata": {
  "kernelspec": {
   "display_name": "base",
   "language": "python",
   "name": "python3"
  },
  "language_info": {
   "codemirror_mode": {
    "name": "ipython",
    "version": 3
   },
   "file_extension": ".py",
   "mimetype": "text/x-python",
   "name": "python",
   "nbconvert_exporter": "python",
   "pygments_lexer": "ipython3",
   "version": "3.10.9"
  },
  "orig_nbformat": 4
 },
 "nbformat": 4,
 "nbformat_minor": 2
}
