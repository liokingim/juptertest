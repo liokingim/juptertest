{
 "cells": [
  {
   "cell_type": "code",
   "execution_count": 7,
   "metadata": {},
   "outputs": [],
   "source": [
    "from keras.models import Sequential\n",
    "from keras.layers import SimpleRNN, Dense\n",
    "from sklearn.preprocessing import MinMaxScaler\n",
    "from sklearn.metrics import mean_squared_error\n",
    "from sklearn.model_selection import train_test_split\n",
    "import math\n",
    "import numpy as np\n",
    "import matplotlib.pyplot as plt\n",
    "from pandas import read_csv\n"
   ]
  },
  {
   "cell_type": "markdown",
   "metadata": {},
   "source": [
    "read_csv csv 파일을 불러온다.\n",
    "usecols= 네번째 행 확진자 수만 사용\n",
    "dataframe.values 첫번째 열의 타이틀은 가져오지 않는다.\n",
    "dataset.astype('float32') 실수형으로 변경"
   ]
  },
  {
   "cell_type": "code",
   "execution_count": null,
   "metadata": {},
   "outputs": [],
   "source": [
    "!git clone https://github.com/yhlee1627/deeplearning.git\n",
    "dataframe = read_csv(\"deeplearning/corona_daily.csv\", usecols=[3], engine=\"python\", skipfooter=3)\n",
    "print(dataframe)\n",
    "dataset = dataframe.values\n",
    "dataset = dataset.astype('float32')\n"
   ]
  },
  {
   "cell_type": "markdown",
   "metadata": {},
   "source": [
    "데이터의 정규화를 위한 함수 MinMaxScaler\n",
    "sklearn의 전처리 함수 feature_range=(0, 1) 데이터를 0과 1 사이의 값으로 바꾸어서 사용\n",
    "train_test_split Dataset을 훈련데이터와 검증데이터로 나눈다.\n",
    "test_size=0.2 검증 데이터를 20%로 분리한다.\n",
    "shuffle=False 데이터를 순서대로 가져오며 섞지 않는다."
   ]
  },
  {
   "cell_type": "code",
   "execution_count": 14,
   "metadata": {},
   "outputs": [
    {
     "name": "stdout",
     "output_type": "stream",
     "text": [
      "89 23\n"
     ]
    }
   ],
   "source": [
    "scaler = MinMaxScaler(feature_range=(0, 1))\n",
    "Dataset = scaler.fit_transform(dataset)\n",
    "# print(Dataset)\n",
    "train_data, test_data = train_test_split(Dataset, test_size=0.2, shuffle=False)\n",
    "print(len(train_data), len(test_data))"
   ]
  },
  {
   "cell_type": "markdown",
   "metadata": {},
   "source": [
    "데이터 형태 변경\n",
    "순환 신경망(RNN)모델은 연속된 데이터를 사용하여 이후의 값을 예측\n",
    "한줄로 나열된 데이터를 아래와 같은 형태로 변경한다.\n",
    "[1,2,3] [4], \n",
    "[2,3,4] [5],\n",
    "...\n",
    "[7,8,9] [10],"
   ]
  },
  {
   "cell_type": "code",
   "execution_count": 5,
   "metadata": {},
   "outputs": [],
   "source": [
    "# dataset 원래 데이터\n",
    "# look_back 연속되는 데이터의 갯수\n",
    "def create_dataset(dataset, look_back):\n",
    "    x_data = []\n",
    "    y_data = []\n",
    "    for i in range(len(dataset) - look_back):\n",
    "        data = dataset[i:(i + look_back), 0]\n",
    "        x_data.append(data)\n",
    "        y_data.append(dataset[i + look_back, 0])\n",
    "    return np.array(x_data), np.array(y_data)"
   ]
  },
  {
   "cell_type": "markdown",
   "metadata": {},
   "source": [
    "입력데이터를 생성\n",
    "look_back : 3일치 데이터를 사용하겠다.\n",
    "train_data : 훈련 데이터\n",
    "test_data : 검증 데이터\n",
    "x_train: 3일치 훈련 데이터\n",
    "y_train: 4일째 훈련 데이터\n",
    "x_test: 3일치 검증 데이터\n",
    "y_test: 4일째 검증 데이터"
   ]
  },
  {
   "cell_type": "code",
   "execution_count": 13,
   "metadata": {},
   "outputs": [
    {
     "name": "stdout",
     "output_type": "stream",
     "text": [
      "(86, 3) (86,)\n",
      "(20, 3) (20,)\n"
     ]
    }
   ],
   "source": [
    "look_back = 3\n",
    "x_train, y_train = create_dataset(train_data, look_back)\n",
    "x_test, y_test = create_dataset(test_data, look_back)\n",
    "print(x_train.shape, y_train.shape)\n",
    "print(x_test.shape, y_test.shape)"
   ]
  },
  {
   "cell_type": "markdown",
   "metadata": {},
   "source": [
    "인공지능 모델에 넣어줄 형태로 변환하기\n",
    "훈련데이터와 검증데이터는 86개며 1X3의 형태로 만든다."
   ]
  },
  {
   "cell_type": "code",
   "execution_count": 17,
   "metadata": {},
   "outputs": [
    {
     "name": "stdout",
     "output_type": "stream",
     "text": [
      "(86, 1, 3)\n",
      "(20, 1, 3)\n"
     ]
    }
   ],
   "source": [
    "X_train = np.reshape(x_train, (x_train.shape[0], 1, x_train.shape[1]))\n",
    "X_test = np.reshape(x_test, (x_test.shape[0], 1, x_test.shape[1]))\n",
    "print(X_train.shape)\n",
    "print(X_test.shape)"
   ]
  },
  {
   "cell_type": "markdown",
   "metadata": {},
   "source": [
    "인공지능 모델 만들기\n",
    "SimpleRNN 순환 신경만 모델을 사용 뉴런의 수는 3개, \n",
    "input_shape=(1, look_back) 데이터이 형태는 몇개의 연속된 데이터를 넣을지에 따라 달라진다.\n",
    "Dense(1, activation=\"linear\") 최종 예측값은 연속된 데이터 이후의 값 확진자 수만 나오기 때문에 1\n",
    "compile(loss='mse', optimizer='adam') 인공지능의 계산 방법 결정\n",
    "    손실함수는 mse(평균 제곱 오차, mean_squared_error), 옵티마이저는 adam(Adaptive Moment Estimation)을 사용\n",
    "    실제 확진자 수와 예측한 값의 차이로 오차를 나타낼수 있기에 평균 제곱 오차를 사용\n",
    "summary() 모델을 구축한 순서대로 표로 구성"
   ]
  },
  {
   "cell_type": "code",
   "execution_count": null,
   "metadata": {},
   "outputs": [],
   "source": [
    "model = Sequential()\n",
    "model.add(SimpleRNN(3, input_shape=(1, look_back)))\n",
    "model.add(Dense(1, activation=\"linear\"))\n",
    "model.compile(loss='mse', optimizer='adam')\n",
    "model.summary()"
   ]
  },
  {
   "cell_type": "markdown",
   "metadata": {},
   "source": [
    "mean_squared_error : 결과의 정확도를 계산하기 위한 함수 \n",
    "연속된 값을 예측하는 회귀의 문제로 오차를 계산하는 방법\n",
    "실제값과 예측값의 차이를 사용하여 오류를 구하는 역할"
   ]
  },
  {
   "cell_type": "markdown",
   "metadata": {},
   "source": [
    "모델 학습시키기 keras\n",
    "X_train 입력 데이터\n",
    "y_train 출력 데이터\n",
    "epochs 반복 횟수\n",
    "batch_size 한번에 학습시킬 데이터 양\n",
    "verbose 학습의 진행 결과를 어떻게 표시할지 결정"
   ]
  },
  {
   "cell_type": "code",
   "execution_count": null,
   "metadata": {},
   "outputs": [],
   "source": [
    "model.fit(X_train, y_train, epochs=100, batch_size=1, verbose=1)"
   ]
  },
  {
   "cell_type": "markdown",
   "metadata": {},
   "source": [
    "데이터 예측하기\n",
    "실제 데이터를 예측한 값과 실제 데이터의 차이를 봐야함\n",
    "정규화 데이터가 아니라 실제 확진자 수 데이터가 필요하다.\n",
    "RNN 모델을 통해 나온 예측값을정규화 되기 전의 값으로 변환하여야 하며 실제 값 또한 정규화되기 전의 원래 값으로 변환하여야 한다.\n",
    "\n",
    "실제 데이터를 넣었을때 어떻게 예측값이 반환하는지 본다.\n",
    "1 predict: 입력 데이터를 모델에 넣어서 출력값을 얻는다.\n",
    "2 훈련데이터를 X_train, X_test를 넣는다.\n",
    "3 inverse_transform 을 통해서 원래의 값으로 변환한다\n",
    "\n",
    "TrainPredict TestPredict 예측값\n",
    "Y_train Y_test 실제값"
   ]
  },
  {
   "cell_type": "code",
   "execution_count": null,
   "metadata": {},
   "outputs": [],
   "source": [
    "trainPredict = model.predict(X_train)\n",
    "testPredict = model.predict(X_test)\n",
    "\n",
    "TrainPredict = scaler.inverse_transform(trainPredict)\n",
    "Y_train = scaler.inverse_transform([y_train])\n",
    "\n",
    "TestPredict = scaler.inverse_transform(testPredict)\n",
    "Y_test = scaler.inverse_transform([y_test])\n",
    "\n",
    "print(TrainPredict)\n",
    "print(Y_train)"
   ]
  },
  {
   "cell_type": "markdown",
   "metadata": {},
   "source": [
    "모델의 정확도 살펴보기\n",
    "평균 제곱근 오차(Root Mean Squared Error) 평균값을 제곱근 한 값이다."
   ]
  },
  {
   "cell_type": "code",
   "execution_count": null,
   "metadata": {},
   "outputs": [],
   "source": [
    "trainScore = math.sqrt(mean_squared_error(Y_train[0], TrainPredict[:,0]))\n",
    "print('Train Score: %.2f RMSE' %(trainScore))\n",
    "testScore = math.sqrt(mean_squared_error(Y_test[0], TestPredict[:,0]))\n",
    "print('Test Score: %.2f RMSE' %(testScore))"
   ]
  },
  {
   "cell_type": "markdown",
   "metadata": {},
   "source": [
    "결과를 그래프로 확인하기\n",
    "실제 데이터과 동일한 그래프를 만든다."
   ]
  },
  {
   "cell_type": "code",
   "execution_count": 33,
   "metadata": {},
   "outputs": [
    {
     "data": {
      "image/png": "[encoded data removed]",
      "text/plain": [
       "<Figure size 640x480 with 1 Axes>"
      ]
     },
     "metadata": {},
     "output_type": "display_data"
    }
   ],
   "source": [
    "trainPredictPlot = np.empty_like(dataset)\n",
    "trainPredictPlot[:,:] = np.nan\n",
    "trainPredictPlot[look_back:len(TrainPredict)+look_back,:] = TrainPredict\n",
    "\n",
    "testPredictPlot = np.empty_like(dataset)\n",
    "testPredictPlot[:,:] = np.nan\n",
    "testPredictPlot[len(TrainPredict)+(look_back)*2:len(dataset),:] = TestPredict\n",
    "\n",
    "plt.plot(dataset)\n",
    "plt.plot(trainPredictPlot)\n",
    "plt.plot(testPredictPlot)\n",
    "plt.show()"
   ]
  }
 ],
 "metadata": {
  "kernelspec": {
   "display_name": "base",
   "language": "python",
   "name": "python3"
  },
  "language_info": {
   "codemirror_mode": {
    "name": "ipython",
    "version": 3
   },
   "file_extension": ".py",
   "mimetype": "text/x-python",
   "name": "python",
   "nbconvert_exporter": "python",
   "pygments_lexer": "ipython3",
   "version": "3.10.11"
  },
  "orig_nbformat": 4
 },
 "nbformat": 4,
 "nbformat_minor": 2
}
