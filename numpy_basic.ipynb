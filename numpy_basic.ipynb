{
 "cells": [
  {
   "cell_type": "code",
   "execution_count": null,
   "metadata": {},
   "outputs": [
    {
     "name": "stdout",
     "output_type": "stream",
     "text": [
      "3.141592653589793\n",
      "2.0\n"
     ]
    }
   ],
   "source": [
    "import math\n",
    "\n",
    "print(math.pi)\n",
    "print(math.sqrt(4))"
   ]
  },
  {
   "cell_type": "code",
   "execution_count": null,
   "metadata": {},
   "outputs": [
    {
     "name": "stdout",
     "output_type": "stream",
     "text": [
      "3.141592653589793\n",
      "2.0\n"
     ]
    }
   ],
   "source": [
    "from math import pi, sqrt\n",
    "\n",
    "print(pi)\n",
    "print(sqrt(4))"
   ]
  },
  {
   "cell_type": "code",
   "execution_count": null,
   "metadata": {},
   "outputs": [
    {
     "name": "stdout",
     "output_type": "stream",
     "text": [
      "3.141592653589793\n"
     ]
    }
   ],
   "source": [
    "from math import *\n",
    "\n",
    "print(pi)"
   ]
  },
  {
   "cell_type": "code",
   "execution_count": 2,
   "metadata": {},
   "outputs": [
    {
     "name": "stdout",
     "output_type": "stream",
     "text": [
      "[1 2 3]\n"
     ]
    }
   ],
   "source": [
    "import numpy as np\n",
    "\n",
    "a = np.array([1,2,3])\n",
    "print(a)"
   ]
  },
  {
   "cell_type": "code",
   "execution_count": 4,
   "metadata": {},
   "outputs": [
    {
     "name": "stdout",
     "output_type": "stream",
     "text": [
      "[[-0.51330237  0.6480529  -0.9021755 ]\n",
      " [ 1.58765544  0.30775825 -0.51621139]\n",
      " [ 0.85944925 -0.40050518  2.51767451]]\n"
     ]
    }
   ],
   "source": [
    "import numpy.random\n",
    "\n",
    "print(numpy.random.randn(3,3))"
   ]
  },
  {
   "cell_type": "code",
   "execution_count": 5,
   "metadata": {},
   "outputs": [
    {
     "name": "stdout",
     "output_type": "stream",
     "text": [
      "[[-2.02707845 -0.37589201]\n",
      " [-0.51658626 -1.63589231]]\n"
     ]
    }
   ],
   "source": [
    "import numpy.random as nr\n",
    "\n",
    "print(nr.randn(2,2))"
   ]
  },
  {
   "cell_type": "code",
   "execution_count": 6,
   "metadata": {},
   "outputs": [
    {
     "name": "stdout",
     "output_type": "stream",
     "text": [
      "[[0.18988681 0.49921245 0.73774949]\n",
      " [0.8230972  0.39921939 0.16850355]\n",
      " [0.99309265 0.31047928 0.94117273]]\n"
     ]
    }
   ],
   "source": [
    "from numpy.random import *\n",
    "\n",
    "print(rand(3,3))"
   ]
  },
  {
   "cell_type": "code",
   "execution_count": 15,
   "metadata": {},
   "outputs": [
    {
     "name": "stdout",
     "output_type": "stream",
     "text": [
      "[1 2 3 4]\n",
      "<class 'numpy.ndarray'>\n",
      "int32\n",
      "(4,)\n",
      "1\n",
      "float64\n",
      "1.0\n"
     ]
    }
   ],
   "source": [
    "import numpy as np\n",
    "a = np.array([1,2,3,4])\n",
    "print(a)\n",
    "print(type(a))\n",
    "print(a.dtype)\n",
    "print(a.shape)\n",
    "print(a[0])\n",
    "b = np.array([1,2,3.1,4])\n",
    "print(b.dtype)\n",
    "print(b[0])"
   ]
  },
  {
   "cell_type": "code",
   "execution_count": 16,
   "metadata": {},
   "outputs": [
    {
     "name": "stdout",
     "output_type": "stream",
     "text": [
      "18446744073709551615\n",
      "uint64\n"
     ]
    }
   ],
   "source": [
    "a = np.array(2**64 -1)\n",
    "print(a)\n",
    "print(a.dtype)"
   ]
  },
  {
   "cell_type": "code",
   "execution_count": 20,
   "metadata": {},
   "outputs": [
    {
     "name": "stdout",
     "output_type": "stream",
     "text": [
      "[[1 2]\n",
      " [3 4]]\n",
      "(2, 2)\n",
      "2\n",
      "4\n"
     ]
    }
   ],
   "source": [
    "a = np.array([[1,2], [3,4]])\n",
    "print(a)\n",
    "print(a.shape)\n",
    "print(a.ndim)\n",
    "print(a.size)"
   ]
  },
  {
   "cell_type": "code",
   "execution_count": 28,
   "metadata": {},
   "outputs": [
    {
     "name": "stdout",
     "output_type": "stream",
     "text": [
      "[0. 0. 0. 0. 0.]\n",
      "[[0 0]\n",
      " [0 0]]\n",
      "[1. 1. 1. 1. 1.]\n",
      "[[0. 0. 0.]\n",
      " [0. 0. 0.]\n",
      " [0. 0. 0.]]\n",
      "[3 5 7 9]\n",
      "[0.  0.1 0.2 0.3 0.4 0.5 0.6 0.7 0.8 0.9]\n",
      "[0.  0.1 0.2 0.3 0.4 0.5 0.6 0.7 0.8 0.9]\n"
     ]
    }
   ],
   "source": [
    "print(np.zeros(5))\n",
    "print(np.zeros_like(a))\n",
    "print(np.ones(5))\n",
    "print(np.zeros([3,3]))\n",
    "print(np.arange(3,10,2))\n",
    "print(np.arange(0,1,0.1))\n",
    "print(np.linspace(0,1,10, endpoint=False))\n"
   ]
  },
  {
   "cell_type": "code",
   "execution_count": 3,
   "metadata": {},
   "outputs": [
    {
     "name": "stdout",
     "output_type": "stream",
     "text": [
      "[5 7 9]\n"
     ]
    }
   ],
   "source": [
    "a = np.array([1,2,3])\n",
    "b = np.array([4,5,6])\n",
    "c = a + b\n",
    "print(c)"
   ]
  },
  {
   "cell_type": "code",
   "execution_count": 8,
   "metadata": {},
   "outputs": [
    {
     "name": "stdout",
     "output_type": "stream",
     "text": [
      "[[5 7 9]\n",
      " [2 4 5]]\n",
      "[[-3 -3 -3]\n",
      " [ 0  0  1]]\n",
      "\n",
      "[[ 4 10 18]\n",
      " [ 1  4  6]]\n",
      "[[0.25 0.4  0.5 ]\n",
      " [1.   1.   1.5 ]]\n",
      "[[  1  32 729]\n",
      " [  1   4   9]]\n"
     ]
    }
   ],
   "source": [
    "a = np.array([[1,2,3],[1,2,3]])\n",
    "b = np.array([[4,5,6],[1,2,2]])\n",
    "c = a + b\n",
    "d = a - b\n",
    "print(c)\n",
    "print(d)\n",
    "print()\n",
    "print(a*b)\n",
    "print(a/b)\n",
    "print(a**b)"
   ]
  },
  {
   "cell_type": "code",
   "execution_count": 10,
   "metadata": {},
   "outputs": [
    {
     "name": "stdout",
     "output_type": "stream",
     "text": [
      "[[ 1  4]\n",
      " [ 9 16]]\n",
      "[[ 7 10]\n",
      " [15 22]]\n"
     ]
    }
   ],
   "source": [
    "a = np.array([[1,2],[3,4]])\n",
    "b = np.array([[1,2],[3,4]])\n",
    "print(a*b)\n",
    "print(a@b)"
   ]
  },
  {
   "cell_type": "markdown",
   "metadata": {},
   "source": [
    "인덱싱 슬라이싱"
   ]
  },
  {
   "cell_type": "code",
   "execution_count": 16,
   "metadata": {},
   "outputs": [
    {
     "name": "stdout",
     "output_type": "stream",
     "text": [
      "1\n",
      "2\n",
      "9\n",
      "[2 3 4]\n",
      "[8 9]\n",
      "[1 2 3 4 5 6 7 8 9]\n"
     ]
    }
   ],
   "source": [
    "a = np.array([1,2,3,4,5,6,7,8,9])\n",
    "print(a[0])\n",
    "print(a[1])\n",
    "print(a[-1])\n",
    "print(a[1:4])\n",
    "print(a[7:])\n",
    "print(a[:])"
   ]
  },
  {
   "cell_type": "code",
   "execution_count": 27,
   "metadata": {},
   "outputs": [
    {
     "name": "stdout",
     "output_type": "stream",
     "text": [
      "[1 2 3]\n",
      "[7 8 9]\n",
      "[[4 5 6]\n",
      " [7 8 9]]\n",
      "[[1 2 3]\n",
      " [4 5 6]\n",
      " [7 8 9]]\n",
      "3\n",
      "3\n",
      "[4 5 6]\n",
      "[4 6]\n",
      "[3 6 9]\n",
      "[[1, 2, 3], [4, 5, 6], [7, 8, 9]]\n",
      "3\n"
     ]
    }
   ],
   "source": [
    "a = np.array([[1,2,3],[4,5,6],[7,8,9]])\n",
    "print(a[0])\n",
    "print(a[-1])\n",
    "print(a[1:])\n",
    "print(a[:])\n",
    "print(a[0][2])\n",
    "print(a[0,2])\n",
    "print(a[1,:])\n",
    "print(a[1,0:3:2])\n",
    "print(a[:,2])\n",
    "b = [[1,2,3],[4,5,6],[7,8,9]]\n",
    "print(b)\n",
    "print(b[0][2])"
   ]
  },
  {
   "cell_type": "code",
   "execution_count": 36,
   "metadata": {},
   "outputs": [
    {
     "name": "stdout",
     "output_type": "stream",
     "text": [
      "False\n",
      "[[False False  True False]\n",
      " [False  True False  True]]\n",
      "[3 3 3]\n",
      "[[  1   2 100   4]\n",
      " [  5 100   7 100]]\n",
      "[1 2 3 4]\n",
      "[1 2]\n"
     ]
    }
   ],
   "source": [
    "# boolean indexing\n",
    "a = [1,2,3,4,5,6,7]\n",
    "print(a == 3)\n",
    "b = np.array([[1,2,3,4],[5,3,7,3]])\n",
    "print(b == 3)\n",
    "print(b[b == 3])\n",
    "\n",
    "b[b == 3] = 100 # 3 -->100 \n",
    "print(b)\n",
    "\n",
    "c = np.array([[1,2],[3,4],[5,6],[7,8]])\n",
    "e = np.array([True, False, False, True])\n",
    "c[e,:]\n",
    "\n",
    "f = np.array([1,2,3,4])\n",
    "print(f)\n",
    "print(f[[True,True,False,False]])"
   ]
  },
  {
   "cell_type": "markdown",
   "metadata": {},
   "source": [
    "3차원 행렬의 인덱싱"
   ]
  },
  {
   "cell_type": "code",
   "execution_count": 37,
   "metadata": {},
   "outputs": [
    {
     "name": "stdout",
     "output_type": "stream",
     "text": [
      "[[[ 0  1  2  3]\n",
      "  [ 4  5  6  7]\n",
      "  [ 8  9 10 11]]\n",
      "\n",
      " [[12 13 14 15]\n",
      "  [16 17 18 19]\n",
      "  [20 21 22 23]]]\n",
      "(2, 3, 4)\n",
      "6\n"
     ]
    }
   ],
   "source": [
    "a = np.array([[[0,1,2,3],[4,5,6,7],[8,9,10,11]],\n",
    "                [[12,13,14,15],[16,17,18,19],[20,21,22,23]]])\n",
    "print(a)\n",
    "print(a.shape)\n",
    "print(a[0,1,2])"
   ]
  },
  {
   "cell_type": "code",
   "execution_count": 42,
   "metadata": {},
   "outputs": [
    {
     "name": "stdout",
     "output_type": "stream",
     "text": [
      "[[ 0.94840484  0.38719732 -0.59010954]\n",
      " [-0.60534925  1.04449576  0.49256343]\n",
      " [ 0.46334254  0.68734056  0.19838177]]\n",
      "[[0.2604406  0.85415601 0.55019863]\n",
      " [0.15132936 0.42262867 0.03500734]\n",
      " [0.60941977 0.1919445  0.34876687]]\n",
      "[[-0.60534925  1.04449576  0.49256343]]\n"
     ]
    }
   ],
   "source": [
    "a = np.random.randn(3,3)\n",
    "b = np.random.rand(3,3)\n",
    "print(a)\n",
    "print(b)\n",
    "print(a[a[:,0]<0,:])"
   ]
  },
  {
   "cell_type": "code",
   "execution_count": 51,
   "metadata": {},
   "outputs": [
    {
     "name": "stdout",
     "output_type": "stream",
     "text": [
      "[[ 0.78801718  0.09274888 -0.27864371]\n",
      " [ 0.39118014  0.17711228  0.43003054]\n",
      " [-1.30645262 -0.84186887  0.5755265 ]]\n",
      "[[0.78801718 0.09274888 0.27864371]\n",
      " [0.39118014 0.17711228 0.43003054]\n",
      " [1.30645262 0.84186887 0.5755265 ]]\n",
      "[[0.88770332 0.304547   0.52786713]\n",
      " [0.62544395 0.4208471  0.65576714]\n",
      " [1.14300158 0.91753413 0.75863463]]\n",
      "[[2.19903182 1.09718617 0.7568095 ]\n",
      " [1.47872486 1.19376513 1.53730448]\n",
      " [0.27077891 0.43090446 1.77806644]]\n",
      "[[-0.23823539 -2.37785968 -1.27782135]\n",
      " [-0.93858712 -1.73097138 -0.84389904]\n",
      " [ 0.26731554 -0.17213101 -0.55247   ]]\n",
      "1.0\n",
      "1.0\n",
      "1.0\n",
      "[[ 1.  0. -0.]\n",
      " [ 0.  0.  0.]\n",
      " [-1. -1.  1.]]\n",
      "[[ 0.79  0.09 -0.28]\n",
      " [ 0.39  0.18  0.43]\n",
      " [-1.31 -0.84  0.58]]\n",
      "[[ 0.  0. -1.]\n",
      " [ 0.  0.  0.]\n",
      " [-2. -1.  0.]]\n",
      "[[ 1.  1. -0.]\n",
      " [ 1.  1.  1.]\n",
      " [-1. -0.  1.]]\n"
     ]
    }
   ],
   "source": [
    "a = np.random.randn(3,3)\n",
    "print(a)\n",
    "print(np.abs(a))\n",
    "print(np.sqrt(np.abs(a)))\n",
    "print(np.exp(a))\n",
    "print(np.log(np.abs(a)))\n",
    "print(np.log(np.exp(1)))\n",
    "print(np.log10(10))\n",
    "print(np.log2(2))\n",
    "print(np.round(a))\n",
    "print(np.round(a,2))\n",
    "print(np.floor(a))\n",
    "print(np.ceil(a))"
   ]
  },
  {
   "cell_type": "code",
   "execution_count": 55,
   "metadata": {},
   "outputs": [
    {
     "name": "stdout",
     "output_type": "stream",
     "text": [
      "0.49999999999999994\n",
      "0.5000000000000001\n",
      "0.9999999999999999\n",
      "0.9999999958776927\n"
     ]
    }
   ],
   "source": [
    "print(np.sin(np.pi/6))\n",
    "print(np.cos(np.pi/3))\n",
    "print(np.tan(np.pi/4))\n",
    "print(np.tanh(10))"
   ]
  },
  {
   "cell_type": "code",
   "execution_count": 62,
   "metadata": {},
   "outputs": [
    {
     "name": "stdout",
     "output_type": "stream",
     "text": [
      "[False False  True False False]\n",
      "[False False  True False False]\n"
     ]
    }
   ],
   "source": [
    "np.nan\n",
    "print(np.isnan([1,2,np.nan,3,4]))\n",
    "print(np.isinf([1,2,np.inf,3,4]))"
   ]
  },
  {
   "cell_type": "code",
   "execution_count": 72,
   "metadata": {},
   "outputs": [
    {
     "name": "stdout",
     "output_type": "stream",
     "text": [
      "[[ 0.24325174 -0.45724653  1.65405927  0.1920749 ]\n",
      " [-1.20203543 -2.36262261 -0.71989468 -0.27205332]\n",
      " [-0.33246388 -1.10635206  0.7391323  -0.70887592]]\n",
      "1.6540592749575\n",
      "[ 0.24325174 -0.45724653  1.65405927  0.1920749 ]\n",
      "[ 1.65405927 -0.27205332  0.7391323 ]\n",
      "[[ 0.24325174 -0.45724653  1.65405927  0.1920749 ]]\n",
      "[[ 1.65405927]\n",
      " [-0.27205332]\n",
      " [ 0.7391323 ]]\n",
      "-2.3626226106480117\n",
      "[-1.20203543 -2.36262261 -0.71989468 -0.70887592]\n",
      "[-0.45724653 -2.36262261 -1.10635206]\n",
      "[[-1.20203543 -2.36262261 -0.71989468 -0.70887592]]\n",
      "[[-0.45724653]\n",
      " [-2.36262261]\n",
      " [-1.10635206]]\n",
      "2\n",
      "[0 0 0 0]\n",
      "[2 3 2]\n"
     ]
    }
   ],
   "source": [
    "a = np.random.randn(3,4)\n",
    "print(a)\n",
    "print(np.max(a))\n",
    "print(np.max(a,axis=0))\n",
    "print(np.max(a,axis=1))\n",
    "print(np.max(a,axis=0, keepdims=True))\n",
    "print(np.max(a,axis=1, keepdims=True))\n",
    "print(np.min(a))\n",
    "print(np.min(a,axis=0))\n",
    "print(np.min(a,axis=1))\n",
    "print(np.min(a,axis=0, keepdims=True))\n",
    "print(np.min(a,axis=1, keepdims=True))\n",
    "print(np.argmax(a))\n",
    "print(np.argmax(a, axis=0))\n",
    "print(np.argmax(a, axis=1))"
   ]
  },
  {
   "cell_type": "code",
   "execution_count": 75,
   "metadata": {},
   "outputs": [
    {
     "name": "stdout",
     "output_type": "stream",
     "text": [
      "[[ 0.23580371]\n",
      " [ 0.20766907]\n",
      " [-0.55156395]\n",
      " [-0.87400247]\n",
      " [ 0.58350331]\n",
      " [-1.03962155]]\n",
      "[[-1.03962155]\n",
      " [-0.87400247]\n",
      " [-0.55156395]\n",
      " [ 0.20766907]\n",
      " [ 0.23580371]\n",
      " [ 0.58350331]]\n",
      "[[ 0.58350331]\n",
      " [ 0.23580371]\n",
      " [ 0.20766907]\n",
      " [-0.55156395]\n",
      " [-0.87400247]\n",
      " [-1.03962155]]\n"
     ]
    }
   ],
   "source": [
    "a = np.random.randn(6,1)\n",
    "print(a)\n",
    "a_sorted = np.sort(a,axis=0)\n",
    "print(a_sorted)\n",
    "print(np.flipud(a_sorted))"
   ]
  },
  {
   "cell_type": "code",
   "execution_count": 77,
   "metadata": {},
   "outputs": [
    {
     "name": "stdout",
     "output_type": "stream",
     "text": [
      "[[-0.01287089 -0.62543933 -0.45127174  1.21345826]\n",
      " [ 1.1817651   1.05309949 -1.05346268  0.63850141]\n",
      " [ 0.36951283 -0.14685502 -1.38154077 -1.32252335]]\n",
      "-0.5376267050516097\n",
      "[ 0.12387629  1.81990332 -2.48140631]\n",
      "[[ 0.12387629]\n",
      " [ 1.81990332]\n",
      " [-2.48140631]]\n",
      "-0.04480222542096748\n",
      "[ 0.03096907  0.45497583 -0.62035158]\n",
      "[[ 0.03096907]\n",
      " [ 0.45497583]\n",
      " [-0.62035158]]\n",
      "0.9074811420258089\n"
     ]
    }
   ],
   "source": [
    "a = np.random.randn(3,4)\n",
    "print(a)\n",
    "print(np.sum(a))\n",
    "print(np.sum(a,axis=1))\n",
    "print(np.sum(a,axis=1, keepdims=True))\n",
    "print(np.mean(a))\n",
    "print(np.mean(a,axis=1))\n",
    "print(np.mean(a,axis=1, keepdims=True))\n",
    "print(np.std(a)) # 표준편차"
   ]
  },
  {
   "cell_type": "code",
   "execution_count": 81,
   "metadata": {},
   "outputs": [
    {
     "name": "stdout",
     "output_type": "stream",
     "text": [
      "[1 1 3 3 3 3 3 3 1 4 2 3]\n",
      "(12,)\n",
      "[[[1 1 3]\n",
      "  [3 3 3]]\n",
      "\n",
      " [[3 3 1]\n",
      "  [4 2 3]]]\n",
      "3\n"
     ]
    }
   ],
   "source": [
    "a = np.random.randint(1,5,size=(12,))\n",
    "print(a)\n",
    "print(a.shape)\n",
    "b = a.reshape(2,2,3)\n",
    "print(b)\n",
    "print(b.ndim)"
   ]
  },
  {
   "cell_type": "code",
   "execution_count": 87,
   "metadata": {},
   "outputs": [
    {
     "name": "stdout",
     "output_type": "stream",
     "text": [
      "9\n",
      "[[9]]\n",
      "[[9]]\n",
      "(4, 3, 2)\n"
     ]
    }
   ],
   "source": [
    "a = np.array([1,2,3])\n",
    "b = np.array([2,2,1])\n",
    "print(np.sum(a*b))\n",
    "\n",
    "a = a.reshape(3,1)\n",
    "b = b.reshape(3,1)\n",
    "print(a.transpose()@b)\n",
    "print(a.T@b)\n",
    "\n",
    "a = np.random.randn(4,3,2)\n",
    "print(a.transpose(0,1,2).shape)"
   ]
  },
  {
   "cell_type": "code",
   "execution_count": 95,
   "metadata": {},
   "outputs": [
    {
     "name": "stdout",
     "output_type": "stream",
     "text": [
      "[ 0  1  2  3  4  5  6  7  8  9 10 11 12 13 14 15 16 17 18 19]\n",
      "[[ 0  1  2  3  4]\n",
      " [ 5  6  7  8  9]\n",
      " [10 11 12 13 14]\n",
      " [15 16 17 18 19]]\n",
      "(4, 5)\n",
      "[[[ 0  1]\n",
      "  [ 2  3]\n",
      "  [ 4  5]\n",
      "  [ 6  7]\n",
      "  [ 8  9]]\n",
      "\n",
      " [[10 11]\n",
      "  [12 13]\n",
      "  [14 15]\n",
      "  [16 17]\n",
      "  [18 19]]]\n",
      "(2, 5, 2)\n",
      "[[ 0  1  2  3  4  5  6  7  8  9 10 11 12 13 14 15 16 17 18 19]]\n",
      "[[ 0]\n",
      " [ 1]\n",
      " [ 2]\n",
      " [ 3]\n",
      " [ 4]\n",
      " [ 5]\n",
      " [ 6]\n",
      " [ 7]\n",
      " [ 8]\n",
      " [ 9]\n",
      " [10]\n",
      " [11]\n",
      " [12]\n",
      " [13]\n",
      " [14]\n",
      " [15]\n",
      " [16]\n",
      " [17]\n",
      " [18]\n",
      " [19]]\n"
     ]
    }
   ],
   "source": [
    "a = np.arange(20)\n",
    "print(a)\n",
    "print(a.reshape(4,5))\n",
    "print(a.reshape(4,-1).shape)\n",
    "print(a.reshape(2,5,-1))\n",
    "print(a.reshape(2,5,-1).shape)\n",
    "print(a.reshape(1,-1))\n",
    "print(a.reshape(-1,1))"
   ]
  },
  {
   "cell_type": "code",
   "execution_count": 104,
   "metadata": {},
   "outputs": [
    {
     "name": "stdout",
     "output_type": "stream",
     "text": [
      "[[[-0.37461377 -0.57268998  0.57760971 -0.78894102  0.700795\n",
      "   -1.77842892]\n",
      "  [-1.14509401 -0.44694476  0.07752718  0.42538582 -1.4265575\n",
      "   -1.49027117]\n",
      "  [ 0.85300797  0.57265139 -1.45493159 -0.01255565 -1.68047159\n",
      "    0.21984906]\n",
      "  [-2.51797105  0.36786616 -0.16577148 -0.14841591 -0.23312401\n",
      "   -0.68865842]\n",
      "  [ 0.51142385 -0.6010772   0.56900877  0.22386975 -1.99461301\n",
      "    0.97123603]]\n",
      "\n",
      " [[ 1.09130296 -0.65114437  1.01183131  1.18298331  0.2359778\n",
      "    1.67150776]\n",
      "  [-1.13493663  0.47369945  1.68808516  0.04213243 -1.69756075\n",
      "   -0.10905687]\n",
      "  [-0.31264468 -3.00796768  1.29419772  1.66527383  1.31160266\n",
      "    0.52665095]\n",
      "  [-0.65911728 -0.39958625 -0.35147259  0.28285277  1.26349355\n",
      "    0.66336948]\n",
      "  [ 0.64892403  0.56275781  0.218793   -0.37562301  1.26307023\n",
      "   -2.07794153]]\n",
      "\n",
      " [[-0.26103102 -2.22155958 -0.10142862 -0.78744635 -0.27347516\n",
      "   -0.1064776 ]\n",
      "  [ 0.54645333 -1.17824109 -0.618926    0.57451744 -0.74449148\n",
      "   -0.65504312]\n",
      "  [ 0.47872048  1.55301719 -0.29093762  0.55818083 -1.60967417\n",
      "   -0.75239055]\n",
      "  [-0.05642617 -0.67762949  0.30764228 -1.11791817  0.46179067\n",
      "   -1.276092  ]\n",
      "  [ 0.2885131  -1.12744876 -0.65779335 -0.98538994 -0.43543369\n",
      "   -1.4488008 ]]\n",
      "\n",
      " [[-1.05382316 -0.62366942 -1.51235335 -0.58800559  0.21439003\n",
      "    1.05150554]\n",
      "  [ 0.9082176  -0.40849249 -1.26120437  0.74991451 -0.01000584\n",
      "    1.21327841]\n",
      "  [-0.3185323   1.65262993 -1.25010487 -2.23994093  0.21808674\n",
      "    1.42988926]\n",
      "  [ 0.80258962  1.15122793  0.97358828  1.19053574  1.00053243\n",
      "   -2.98345198]\n",
      "  [ 0.26402089  0.39500851  0.27465821 -1.56403484  0.13926973\n",
      "   -1.45056408]]]\n",
      "(4, 5, 6)\n",
      "(4, 5, 6)\n",
      "(2, 3, 4, 5)\n",
      "(2, 3, 4, 5)\n",
      "(3, 4, 6)\n"
     ]
    }
   ],
   "source": [
    "a = np.random.randn(2,3,4,5,6)\n",
    "print(a[1,2,:,:,:])\n",
    "print(a[1,2,:,:,:].shape)\n",
    "print(a[1,2,...].shape)\n",
    "print(a[:,:,:,:,3].shape)\n",
    "print(a[...,3].shape)\n",
    "print(a[1,...,3,:].shape)"
   ]
  },
  {
   "cell_type": "code",
   "execution_count": 109,
   "metadata": {},
   "outputs": [
    {
     "name": "stdout",
     "output_type": "stream",
     "text": [
      "[[1. 1. 0. 0.]\n",
      " [1. 1. 0. 0.]]\n",
      "[[1. 1.]\n",
      " [1. 1.]\n",
      " [0. 0.]\n",
      " [0. 0.]]\n",
      "[[1. 1. 0. 0.]\n",
      " [1. 1. 0. 0.]]\n",
      "[[1. 1.]\n",
      " [1. 1.]\n",
      " [0. 0.]\n",
      " [0. 0.]]\n",
      "[[[1. 1.]\n",
      "  [1. 1.]]\n",
      "\n",
      " [[0. 0.]\n",
      "  [0. 0.]]]\n"
     ]
    }
   ],
   "source": [
    "a = np.ones((2,2))\n",
    "b = np.zeros((2,2))\n",
    "c = np.hstack([a,b])\n",
    "d = np.vstack([a,b])\n",
    "e = np.block([a,b])\n",
    "f = np.block([[a],[b]])\n",
    "g = np.block([[[a]],[[b]]])\n",
    "print(c)\n",
    "print(d)\n",
    "print(e)\n",
    "print(f)\n",
    "print(g)"
   ]
  },
  {
   "cell_type": "code",
   "execution_count": 114,
   "metadata": {},
   "outputs": [
    {
     "name": "stdout",
     "output_type": "stream",
     "text": [
      "(1, 1, 1, 3, 1, 1, 4, 1)\n",
      "(3, 4)\n",
      "(1, 3, 4, 1)\n"
     ]
    }
   ],
   "source": [
    "a = np.random.randn(1,1,1,3,1,1,4,1)\n",
    "print(a.shape)\n",
    "print(a.squeeze().shape)\n",
    "print(a.squeeze(axis=(0,2,4,5)).shape)\n",
    "\n"
   ]
  },
  {
   "cell_type": "code",
   "execution_count": 126,
   "metadata": {},
   "outputs": [
    {
     "name": "stdout",
     "output_type": "stream",
     "text": [
      "[[[ 2.85553624  0.00881952 -1.30054022  1.07823281]\n",
      "  [ 0.81592378  1.55239357 -1.80692622 -0.60022185]\n",
      "  [ 0.21024676  1.24613724  0.67299956 -0.56780276]]]\n",
      "(1, 3, 4)\n",
      "[[[ 2.85553624  0.00881952 -1.30054022  1.07823281]\n",
      "  [ 0.81592378  1.55239357 -1.80692622 -0.60022185]\n",
      "  [ 0.21024676  1.24613724  0.67299956 -0.56780276]]]\n",
      "(1, 3, 4)\n",
      "[[[ 2.85553624]\n",
      "  [ 0.00881952]\n",
      "  [-1.30054022]\n",
      "  [ 1.07823281]]\n",
      "\n",
      " [[ 0.81592378]\n",
      "  [ 1.55239357]\n",
      "  [-1.80692622]\n",
      "  [-0.60022185]]\n",
      "\n",
      " [[ 0.21024676]\n",
      "  [ 1.24613724]\n",
      "  [ 0.67299956]\n",
      "  [-0.56780276]]]\n",
      "(3, 4, 1)\n",
      "(1, 3, 4)\n",
      "(3, 4, 1)\n",
      "(3, 1, 4)\n",
      "[[[ 2.85553624  0.00881952 -1.30054022  1.07823281]\n",
      "  [ 0.81592378  1.55239357 -1.80692622 -0.60022185]\n",
      "  [ 0.21024676  1.24613724  0.67299956 -0.56780276]]]\n",
      "(1, 3, 4)\n",
      "[[[ 2.85553624]\n",
      "  [ 0.00881952]\n",
      "  [-1.30054022]\n",
      "  [ 1.07823281]]\n",
      "\n",
      " [[ 0.81592378]\n",
      "  [ 1.55239357]\n",
      "  [-1.80692622]\n",
      "  [-0.60022185]]\n",
      "\n",
      " [[ 0.21024676]\n",
      "  [ 1.24613724]\n",
      "  [ 0.67299956]\n",
      "  [-0.56780276]]]\n",
      "(3, 4, 1)\n",
      "[[[ 2.85553624  0.00881952 -1.30054022  1.07823281]]\n",
      "\n",
      " [[ 0.81592378  1.55239357 -1.80692622 -0.60022185]]\n",
      "\n",
      " [[ 0.21024676  1.24613724  0.67299956 -0.56780276]]]\n",
      "(3, 1, 4)\n"
     ]
    }
   ],
   "source": [
    "a = np.random.randn(3,4)\n",
    "a1 = a[np.newaxis,...]\n",
    "\n",
    "print(a1)\n",
    "print(a1.shape)\n",
    "\n",
    "a1 = a[None,...]\n",
    "print(a1)\n",
    "print(a1.shape)\n",
    "\n",
    "a2 = a[...,np.newaxis]\n",
    "print(a2)\n",
    "print(a2.shape)\n",
    "\n",
    "a3 = np.expand_dims(a,axis=0)\n",
    "print(a3.shape)\n",
    "a4 = np.expand_dims(a,axis=2)\n",
    "print(a4.shape)\n",
    "a5 = np.expand_dims(a,axis=1)\n",
    "print(a5.shape)\n",
    "\n",
    "a6 = a.reshape(1,3,4)\n",
    "print(a6)\n",
    "print(a6.shape)\n",
    "a7 = a.reshape(3,4,1)\n",
    "print(a7)\n",
    "print(a7.shape)\n",
    "a8 = a.reshape(3,1,4)\n",
    "print(a8)\n",
    "print(a8.shape)"
   ]
  },
  {
   "cell_type": "code",
   "execution_count": null,
   "metadata": {},
   "outputs": [],
   "source": []
  }
 ],
 "metadata": {
  "kernelspec": {
   "display_name": "base",
   "language": "python",
   "name": "python3"
  },
  "language_info": {
   "codemirror_mode": {
    "name": "ipython",
    "version": 3
   },
   "file_extension": ".py",
   "mimetype": "text/x-python",
   "name": "python",
   "nbconvert_exporter": "python",
   "pygments_lexer": "ipython3",
   "version": "3.10.9"
  },
  "orig_nbformat": 4
 },
 "nbformat": 4,
 "nbformat_minor": 2
}
